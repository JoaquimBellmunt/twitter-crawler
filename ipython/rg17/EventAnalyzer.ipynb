{
 "cells": [
  {
   "cell_type": "code",
   "execution_count": null,
   "metadata": {
    "collapsed": true
   },
   "outputs": [],
   "source": [
    "import sys, os, time"
   ]
  },
  {
   "cell_type": "code",
   "execution_count": null,
   "metadata": {
    "collapsed": false
   },
   "outputs": [],
   "source": [
    "sys.path.insert(0,\"../../python/\")\n",
    "import analyzer_utils as au"
   ]
  },
  {
   "cell_type": "code",
   "execution_count": null,
   "metadata": {
    "collapsed": true
   },
   "outputs": [],
   "source": [
    "import networkx as nx\n",
    "import pandas as pd\n",
    "import numpy as np"
   ]
  },
  {
   "cell_type": "code",
   "execution_count": null,
   "metadata": {
    "collapsed": true
   },
   "outputs": [],
   "source": [
    "%matplotlib inline\n",
    "from matplotlib import pyplot as plt"
   ]
  },
  {
   "cell_type": "code",
   "execution_count": null,
   "metadata": {
    "collapsed": false
   },
   "outputs": [],
   "source": [
    "from bokeh.io import output_notebook\n",
    "output_notebook()"
   ]
  },
  {
   "cell_type": "markdown",
   "metadata": {},
   "source": [
    "# Get collections"
   ]
  },
  {
   "cell_type": "code",
   "execution_count": null,
   "metadata": {
    "collapsed": false
   },
   "outputs": [],
   "source": [
    "raw_coll, db = au.get_coll(\"raw\")\n",
    "raw_begin_coll, _ = au.get_coll(\"raw_begining\")"
   ]
  },
  {
   "cell_type": "markdown",
   "metadata": {},
   "source": [
    "#### Number of documents in the collections"
   ]
  },
  {
   "cell_type": "code",
   "execution_count": null,
   "metadata": {
    "collapsed": true
   },
   "outputs": [],
   "source": [
    "raw_size = db.command(\"collstats\", \"raw\")[\"count\"]\n",
    "raw_begin_size = db.command(\"collstats\", \"raw_begining\")[\"count\"]"
   ]
  },
  {
   "cell_type": "code",
   "execution_count": null,
   "metadata": {
    "collapsed": false
   },
   "outputs": [],
   "source": [
    "print(\"Number of docs in 'raw': %i\" % raw_size)\n",
    "print(\"Number of docs in 'raw_begining': %i\" % raw_begin_size)"
   ]
  },
  {
   "cell_type": "markdown",
   "metadata": {},
   "source": [
    "# Sample event"
   ]
  },
  {
   "cell_type": "code",
   "execution_count": null,
   "metadata": {
    "collapsed": true
   },
   "outputs": [],
   "source": [
    "doc = raw_coll.find_one()"
   ]
  },
  {
   "cell_type": "code",
   "execution_count": null,
   "metadata": {
    "collapsed": false
   },
   "outputs": [],
   "source": [
    "doc[\"created_at\"]"
   ]
  },
  {
   "cell_type": "markdown",
   "metadata": {},
   "source": [
    "from search_utils import tweet_time_2_epoch\n",
    "tweet_time_2_epoch('Thu Jun 01 15:42:59 +0000 2017')"
   ]
  },
  {
   "cell_type": "markdown",
   "metadata": {},
   "source": [
    "# Upper and lower bound of the available dataset\n",
    "\n",
    "   * Qualifying days: May 22 - May 26 **First two days are missing!!! :(**\n",
    "   * Normal contest: May 28 - June 11 \n",
    "   * **I am still crawling events to see the decay in activity**"
   ]
  },
  {
   "cell_type": "code",
   "execution_count": null,
   "metadata": {
    "collapsed": false
   },
   "outputs": [],
   "source": [
    "au.find_some_docs(raw_begin_coll,sort_params=[(\"id\",1)],limit=3)"
   ]
  },
  {
   "cell_type": "code",
   "execution_count": null,
   "metadata": {
    "collapsed": false,
    "scrolled": false
   },
   "outputs": [],
   "source": [
    "au.find_some_docs(raw_begin_coll,limit=3)"
   ]
  },
  {
   "cell_type": "code",
   "execution_count": null,
   "metadata": {
    "collapsed": false
   },
   "outputs": [],
   "source": [
    "au.find_some_docs(raw_coll,sort_params=[(\"id\",1)],limit=3)"
   ]
  },
  {
   "cell_type": "code",
   "execution_count": null,
   "metadata": {
    "collapsed": false,
    "scrolled": true
   },
   "outputs": [],
   "source": [
    "au.find_some_docs(raw_coll,limit=3)"
   ]
  },
  {
   "cell_type": "markdown",
   "metadata": {},
   "source": [
    "# Extract tweet text"
   ]
  },
  {
   "cell_type": "code",
   "execution_count": null,
   "metadata": {
    "collapsed": false
   },
   "outputs": [],
   "source": [
    "tweet_info_raw = au.get_tweets(raw_coll, without_urls=True)"
   ]
  },
  {
   "cell_type": "code",
   "execution_count": null,
   "metadata": {
    "collapsed": true
   },
   "outputs": [],
   "source": [
    "tweet_info_df_raw = pd.DataFrame(tweet_info_raw, columns=[\"tweet_id\",\"time\",\"source_id\",\"source_name\",\"language\",\"text\"])"
   ]
  },
  {
   "cell_type": "code",
   "execution_count": null,
   "metadata": {
    "collapsed": true
   },
   "outputs": [],
   "source": [
    "tweet_info_begin = au.get_tweets(raw_begin_coll, without_urls=True)"
   ]
  },
  {
   "cell_type": "code",
   "execution_count": null,
   "metadata": {
    "collapsed": true
   },
   "outputs": [],
   "source": [
    "tweet_info_df_begin = pd.DataFrame(tweet_info_begin, columns=[\"tweet_id\",\"time\",\"source_id\",\"source_name\",\"language\",\"text\"])"
   ]
  },
  {
   "cell_type": "code",
   "execution_count": null,
   "metadata": {
    "collapsed": true
   },
   "outputs": [],
   "source": [
    "tweet_info_df = pd.concat([tweet_info_df_raw, tweet_info_df_begin])"
   ]
  },
  {
   "cell_type": "code",
   "execution_count": null,
   "metadata": {
    "collapsed": true
   },
   "outputs": [],
   "source": [
    "tweet_info_df = tweet_info_df.sort_values(\"time\")"
   ]
  },
  {
   "cell_type": "markdown",
   "metadata": {},
   "source": [
    "tmp.ix[18362][\"text\"].replace(\"\\r\",\" \")"
   ]
  },
  {
   "cell_type": "markdown",
   "metadata": {},
   "source": [
    "tmp_eng = tweet_info_df[tweet_info_df[\"language\"] == \"en\"]\n",
    "len(tmp_eng)\n",
    "#tmp = tmp_eng[tmp_eng[\"text\"].apply(lambda x: \"Man... \" in x)]\n",
    "tmp = tmp_eng[tmp_eng[\"text\"].apply(lambda x: \"Struggling to take it in \" in x)]\n",
    "len(tmp)\n",
    "for idx, row in tmp.iterrows():\n",
    "    print(idx, row, row[\"text\"])#, row[\"text\"].replace(\"\\n\",\" \"))"
   ]
  },
  {
   "cell_type": "code",
   "execution_count": null,
   "metadata": {
    "collapsed": true
   },
   "outputs": [],
   "source": [
    "tweet_info_df[\"source_name\"] = tweet_info_df[\"source_name\"].apply(lambda x: x.replace(\"|\",\"\"))\n",
    "tweet_info_df[\"text\"] = tweet_info_df[\"text\"].apply(lambda x: x.replace(\"|\",\"\"))\n",
    "tweet_info_df[\"text\"] = tweet_info_df[\"text\"].apply(lambda x: x.replace(\"\\n\",\" \"))\n",
    "tweet_info_df[\"text\"] = tweet_info_df[\"text\"].apply(lambda x: x.replace(\"\\r\",\" \"))"
   ]
  },
  {
   "cell_type": "code",
   "execution_count": null,
   "metadata": {
    "collapsed": true
   },
   "outputs": [],
   "source": [
    "tweet_info_df.to_csv(\"/mnt/idms/fberes/network/roland_garros/data/rg17_tweets.csv\",index=False,sep=\"|\")"
   ]
  },
  {
   "cell_type": "code",
   "execution_count": null,
   "metadata": {
    "collapsed": true
   },
   "outputs": [],
   "source": [
    "tweet_info_df_en = tweet_info_df[tweet_info_df[\"language\"] == \"en\"]\n",
    "tweet_info_df_en.to_csv(\"/mnt/idms/fberes/network/roland_garros/data/rg17_tweets_eng.csv\",index=False,sep=\"|\")"
   ]
  },
  {
   "cell_type": "markdown",
   "metadata": {},
   "source": [
    "# Extract mention networks"
   ]
  },
  {
   "cell_type": "markdown",
   "metadata": {},
   "source": [
    "## a.) Extract mentions from multiple collections"
   ]
  },
  {
   "cell_type": "code",
   "execution_count": null,
   "metadata": {
    "collapsed": false
   },
   "outputs": [],
   "source": [
    "mentions_begin, user_names_begin, user_screen_names_begin, num_tweets_begin, num_retweets_begin = au.get_mentions(raw_begin_coll)"
   ]
  },
  {
   "cell_type": "code",
   "execution_count": null,
   "metadata": {
    "collapsed": false
   },
   "outputs": [],
   "source": [
    "mentions_df_begin = pd.DataFrame(mentions_begin,columns=[\"epoch\",\"src\",\"trg\",\"lang\",\"text\"])\n",
    "print(len(mentions_df_begin))"
   ]
  },
  {
   "cell_type": "code",
   "execution_count": null,
   "metadata": {
    "collapsed": false
   },
   "outputs": [],
   "source": [
    "mentions_df_begin.head()"
   ]
  },
  {
   "cell_type": "code",
   "execution_count": null,
   "metadata": {
    "collapsed": false
   },
   "outputs": [],
   "source": [
    "mentions_raw, user_names_raw, user_screen_names_raw, num_tweets_raw, num_retweets_raw = au.get_mentions(raw_coll)"
   ]
  },
  {
   "cell_type": "code",
   "execution_count": null,
   "metadata": {
    "collapsed": false
   },
   "outputs": [],
   "source": [
    "mentions_df_raw = pd.DataFrame(mentions_raw,columns=[\"epoch\",\"src\",\"trg\",\"lang\",\"text\"])\n",
    "print(len(mentions_df_raw))"
   ]
  },
  {
   "cell_type": "markdown",
   "metadata": {},
   "source": [
    "## b.) Rolland Garros mention network (concatenated)\n",
    "   * first part: May 23 16:51 -> May 31\n",
    "   * second part: June 01 -> WIP"
   ]
  },
  {
   "cell_type": "code",
   "execution_count": null,
   "metadata": {
    "collapsed": false
   },
   "outputs": [],
   "source": [
    "mentions_df = pd.concat([mentions_df_begin, mentions_df_raw])\n",
    "mentions_df = mentions_df.reset_index(drop=True)\n",
    "mentions_df = mentions_df.sort_values(\"epoch\")\n",
    "user_names_begin.update(user_names_raw)\n",
    "user_screen_names_begin.update(user_screen_names_raw)\n",
    "user_names = user_names_begin\n",
    "user_screen_names = user_screen_names_begin\n",
    "num_tweets = num_tweets_begin + num_tweets_raw\n",
    "num_retweets = num_retweets_begin + num_retweets_raw"
   ]
  },
  {
   "cell_type": "code",
   "execution_count": null,
   "metadata": {
    "collapsed": false
   },
   "outputs": [],
   "source": [
    "mentions_df.head()"
   ]
  },
  {
   "cell_type": "code",
   "execution_count": null,
   "metadata": {
    "collapsed": true
   },
   "outputs": [],
   "source": [
    "mentions_df[\"src_str\"] =  mentions_df[\"src\"].apply(lambda x: user_names[x])\n",
    "mentions_df[\"trg_str\"] =  mentions_df[\"trg\"].apply(lambda x: user_names[x])\n",
    "mentions_df[\"src_screen_str\"] =  mentions_df[\"src\"].apply(lambda x: user_screen_names[x])\n",
    "mentions_df[\"trg_screen_str\"] =  mentions_df[\"trg\"].apply(lambda x: user_screen_names[x])"
   ]
  },
  {
   "cell_type": "markdown",
   "metadata": {},
   "source": [
    "### 1. Number of mentions"
   ]
  },
  {
   "cell_type": "code",
   "execution_count": null,
   "metadata": {
    "collapsed": false
   },
   "outputs": [],
   "source": [
    "print(\"Number of tweets: %i\" % num_tweets)\n",
    "print(\"Number of retweets: %i\" % num_retweets)\n",
    "print(\"Number of mentions extracted from tweets: %i\" % len(mentions_df))"
   ]
  },
  {
   "cell_type": "markdown",
   "metadata": {},
   "source": [
    "### Export mentions to .csv"
   ]
  },
  {
   "cell_type": "markdown",
   "metadata": {},
   "source": [
    "## Delete data after 2017-06-15 (I collected data until this point)"
   ]
  },
  {
   "cell_type": "code",
   "execution_count": null,
   "metadata": {
    "collapsed": true
   },
   "outputs": [],
   "source": [
    "mentions_df = mentions_df[mentions_df[\"epoch\"] < 1497571200] # 2017-06-16 dawn UTC time"
   ]
  },
  {
   "cell_type": "markdown",
   "metadata": {},
   "source": [
    "#### with recoded ID-s"
   ]
  },
  {
   "cell_type": "code",
   "execution_count": null,
   "metadata": {
    "collapsed": false
   },
   "outputs": [],
   "source": [
    "#filter for dates bigger than 2017 May 23 23:59 CET\n",
    "#file_path = \"/mnt/idms/fberes/network/roland_garros/data/rg17_mentions.csv\"\n",
    "file_path = \"/mnt/idms/temporalNodeRanking/data/filtered_timeline_data/tsv/rg17/rg17_mentions.csv\"\n",
    "au.recode_and_export_mentions(file_path,mentions_df,user_names,epoch_lower_bound=1495576800)"
   ]
  },
  {
   "cell_type": "markdown",
   "metadata": {},
   "source": [
    "#### with original ID-s"
   ]
  },
  {
   "cell_type": "code",
   "execution_count": null,
   "metadata": {
    "collapsed": true
   },
   "outputs": [],
   "source": [
    "cols_to_export = [\"epoch\",\"src\",\"trg\",\"src_str\",\"src_screen_str\",\"trg_str\",\"trg_screen_str\"]\n",
    "mentions_df.to_csv(\"/mnt/idms/fberes/network/roland_garros/data/rg17_mentions_with_names.csv\",columns=cols_to_export,sep=\"|\",index=False)"
   ]
  },
  {
   "cell_type": "code",
   "execution_count": null,
   "metadata": {
    "collapsed": true
   },
   "outputs": [],
   "source": [
    "cols_to_export = [\"epoch\",\"src\",\"trg\",\"src_str\",\"src_screen_str\",\"trg_str\",\"trg_screen_str\",\"lang\",\"text\"]\n",
    "mentions_df.to_csv(\"/mnt/idms/fberes/network/roland_garros/data/rg17_mentions_with_names_and_text.csv\",columns=cols_to_export,sep=\"|\",index=False)"
   ]
  },
  {
   "cell_type": "markdown",
   "metadata": {},
   "source": [
    "### Read from .csv"
   ]
  },
  {
   "cell_type": "code",
   "execution_count": null,
   "metadata": {
    "collapsed": false
   },
   "outputs": [],
   "source": [
    "mentions_df = pd.read_csv(\"/mnt/idms/fberes/network/roland_garros/data/rg17_mentions_with_names.csv\",sep=\"|\")\n",
    "mentions_df.head()"
   ]
  },
  {
   "cell_type": "code",
   "execution_count": null,
   "metadata": {
    "collapsed": true
   },
   "outputs": [],
   "source": [
    "src_map = dict(zip(mentions_df[\"src\"],mentions_df[\"src_str\"]))\n",
    "trg_map = dict(zip(mentions_df[\"trg\"],mentions_df[\"trg_str\"]))\n",
    "src_map.update(trg_map)\n",
    "user_names = src_map"
   ]
  },
  {
   "cell_type": "markdown",
   "metadata": {},
   "source": [
    "### 2. Popular source nodes"
   ]
  },
  {
   "cell_type": "code",
   "execution_count": null,
   "metadata": {
    "collapsed": false
   },
   "outputs": [],
   "source": [
    "au.show_frequent_items(mentions_df,user_names,\"src\",k=10)"
   ]
  },
  {
   "cell_type": "markdown",
   "metadata": {},
   "source": [
    "### 3. Popular target nodes"
   ]
  },
  {
   "cell_type": "code",
   "execution_count": null,
   "metadata": {
    "collapsed": false
   },
   "outputs": [],
   "source": [
    "au.show_frequent_items(mentions_df,user_names,\"trg\",k=10)"
   ]
  },
  {
   "cell_type": "markdown",
   "metadata": {},
   "source": [
    "### 4. Event distribution in time"
   ]
  },
  {
   "cell_type": "code",
   "execution_count": null,
   "metadata": {
    "collapsed": true
   },
   "outputs": [],
   "source": [
    "import time"
   ]
  },
  {
   "cell_type": "code",
   "execution_count": null,
   "metadata": {
    "collapsed": false
   },
   "outputs": [],
   "source": [
    "mentions_df[\"date\"] = mentions_df[\"epoch\"].apply(lambda x: time.strftime('%Y-%m-%d', time.localtime(x)))\n",
    "mentions_df[\"time\"] = mentions_df[\"epoch\"].apply(lambda x: time.strftime('%H:%M:%S', time.localtime(x)))"
   ]
  },
  {
   "cell_type": "code",
   "execution_count": null,
   "metadata": {
    "collapsed": false
   },
   "outputs": [],
   "source": [
    "mentions_df.head()"
   ]
  },
  {
   "cell_type": "code",
   "execution_count": null,
   "metadata": {
    "collapsed": false
   },
   "outputs": [],
   "source": [
    "plt.figure(figsize=(15,5))\n",
    "plt.title(\"Number of mentions in time\")\n",
    "mentions_df[\"epoch\"].hist(bins=500)\n",
    "plt.show()"
   ]
  },
  {
   "cell_type": "code",
   "execution_count": null,
   "metadata": {
    "collapsed": false
   },
   "outputs": [],
   "source": [
    "num_of_mentions_by_day = mentions_df[\"date\"].value_counts().sort_index()"
   ]
  },
  {
   "cell_type": "code",
   "execution_count": null,
   "metadata": {
    "collapsed": false
   },
   "outputs": [],
   "source": [
    "plt.figure(figsize=(15,5))\n",
    "plt.title(\"Number of mentions per day\")\n",
    "plt.plot(num_of_mentions_by_day.values)\n",
    "plt.xticks(range(len(num_of_mentions_by_day)),num_of_mentions_by_day.index,rotation='vertical')\n",
    "plt.show()"
   ]
  },
  {
   "cell_type": "markdown",
   "metadata": {},
   "source": [
    "### 5. Graph informations"
   ]
  },
  {
   "cell_type": "code",
   "execution_count": null,
   "metadata": {
    "collapsed": false
   },
   "outputs": [],
   "source": [
    "date_splits = sorted(list(mentions_df[\"date\"].unique()))\n",
    "#date_splits"
   ]
  },
  {
   "cell_type": "code",
   "execution_count": null,
   "metadata": {
    "collapsed": false
   },
   "outputs": [],
   "source": [
    "graph_stats = [] \n",
    "for split in date_splits[1:]:\n",
    "    partial_df = mentions_df[mentions_df[\"date\"] < split]\n",
    "    graph_stats += [au.get_graph_stats(partial_df)]\n",
    "graph_stats_df = pd.DataFrame(graph_stats, columns=[\"nodes\",\"edges\",\"weak_components\",\"strong_components\"])"
   ]
  },
  {
   "cell_type": "code",
   "execution_count": null,
   "metadata": {
    "collapsed": false
   },
   "outputs": [],
   "source": [
    "graph_stats_df.head(3)"
   ]
  },
  {
   "cell_type": "code",
   "execution_count": null,
   "metadata": {
    "collapsed": false
   },
   "outputs": [],
   "source": [
    "plt.subplots(figsize=(16,5))\n",
    "\n",
    "plt.subplot(1,2,1)\n",
    "plt.title('Aggregated mention graph size')\n",
    "plt.plot(graph_stats_df[\"nodes\"],label=\"nodes\")\n",
    "plt.plot(graph_stats_df[\"edges\"],label=\"edges\")\n",
    "plt.xticks(range(len(graph_stats_df)),date_splits[:-1],rotation='vertical')\n",
    "plt.legend()\n",
    "\n",
    "plt.subplot(1,2,2)\n",
    "plt.title('Number of weak components in the aggregated mention graph')\n",
    "plt.plot(graph_stats_df[\"weak_components\"],label=\"number of \",c=\"r\")\n",
    "plt.xticks(range(len(graph_stats_df)),date_splits[:-1],rotation='vertical')\n",
    "plt.show()"
   ]
  },
  {
   "cell_type": "markdown",
   "metadata": {},
   "source": [
    "### 6. Changes in popular items"
   ]
  },
  {
   "cell_type": "code",
   "execution_count": null,
   "metadata": {
    "collapsed": false
   },
   "outputs": [],
   "source": [
    "day_list = []\n",
    "day_list += ['2017-05-%i' % i for i in range(23,32)]\n",
    "day_list += ['2017-06-0%i' % i for i in range(1,10)]\n",
    "#day_list += ['2017-06-1%i' % i for i in range(0,3)]\n",
    "day_list"
   ]
  },
  {
   "cell_type": "code",
   "execution_count": null,
   "metadata": {
    "collapsed": false
   },
   "outputs": [],
   "source": [
    "k = 20\n",
    "popular_trgs = []\n",
    "for i in range(len(day_list)):\n",
    "    daily_df = mentions_df[mentions_df[\"date\"]==day_list[i]]\n",
    "    freq_trg = au.show_frequent_items(daily_df,user_names,\"trg\",k=k)\n",
    "    popular_trgs += list(zip(np.ones(k)*i,freq_trg[\"name\"],freq_trg[\"count\"],freq_trg[\"count\"]/len(daily_df)))\n",
    "    #popular_trgs += list(zip(np.ones(k)*i,freq_trg[\"name\"],np.sqrt(freq_trg[\"count\"])))\n",
    "    #popular_trgs += list(zip(np.ones(k)*i,freq_trg[\"name\"],np.log(freq_trg[\"count\"])))\n",
    "popular_trg_df = pd.DataFrame(popular_trgs, columns=[\"day_idx\",\"name\",\"count\",\"dominance\"])"
   ]
  },
  {
   "cell_type": "markdown",
   "metadata": {},
   "source": [
    "#### At least 3 times in top_20\n",
    "   * 06-09:\n",
    "      * Wawrinka defeated Murray\n",
    "      * Nadal defeated Dominic Thiem"
   ]
  },
  {
   "cell_type": "code",
   "execution_count": null,
   "metadata": {
    "collapsed": false
   },
   "outputs": [],
   "source": [
    "au.plot_user_popularity(au.filter_for_support(popular_trg_df, min_times=3),day_list)"
   ]
  },
  {
   "cell_type": "markdown",
   "metadata": {},
   "source": [
    "#### At least 8 times in top_20\n",
    "\n",
    "   * Nadal and Wawrinka will play for 1st and 2nd prize\n",
    "   * Wawrinka came from very low, he was not among top_20 in 10 days...\n",
    "   * Djokovic was defeated on 06-07 by Dominic Thiem\n",
    "   * 06-09:\n",
    "      * Wawrinka defeated Murray\n",
    "      * Nadal defeated Dominic Thiem"
   ]
  },
  {
   "cell_type": "code",
   "execution_count": null,
   "metadata": {
    "collapsed": false
   },
   "outputs": [],
   "source": [
    "very_pop_df = au.filter_for_support(popular_trg_df, min_times=8)\n",
    "#au.plot_user_popularity(very_pop_df, day_list)\n",
    "au.plot_user_dominance(very_pop_df)"
   ]
  },
  {
   "cell_type": "markdown",
   "metadata": {},
   "source": [
    "#### At least 4 times in top_20 but less then 8 times"
   ]
  },
  {
   "cell_type": "code",
   "execution_count": null,
   "metadata": {
    "collapsed": false
   },
   "outputs": [],
   "source": [
    "very_pop_df = au.filter_for_support(popular_trg_df, max_times=7, min_times=4)\n",
    "#plot_user_popularity(very_pop_df,day_list)\n",
    "au.plot_user_dominance(very_pop_df)"
   ]
  }
 ],
 "metadata": {
  "anaconda-cloud": {},
  "kernelspec": {
   "display_name": "Python [conda env:dm-3-env]",
   "language": "python",
   "name": "conda-env-dm-3-env-py"
  },
  "language_info": {
   "codemirror_mode": {
    "name": "ipython",
    "version": 3
   },
   "file_extension": ".py",
   "mimetype": "text/x-python",
   "name": "python",
   "nbconvert_exporter": "python",
   "pygments_lexer": "ipython3",
   "version": "3.5.2"
  }
 },
 "nbformat": 4,
 "nbformat_minor": 1
}