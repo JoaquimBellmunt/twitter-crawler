{
 "cells": [
  {
   "cell_type": "code",
   "execution_count": null,
   "metadata": {
    "collapsed": false
   },
   "outputs": [],
   "source": [
    "import numpy as np\n",
    "import pandas as pd"
   ]
  },
  {
   "cell_type": "code",
   "execution_count": null,
   "metadata": {
    "collapsed": false
   },
   "outputs": [],
   "source": [
    "%%bash\n",
    "head -1 /mnt/idms/bdavid/projects/twitter-comb-occ-2017/rg17/rg17_8000_important_en_words_plus_players_results.txt"
   ]
  },
  {
   "cell_type": "markdown",
   "metadata": {},
   "source": [
    "# Load raw combined occurences"
   ]
  },
  {
   "cell_type": "code",
   "execution_count": null,
   "metadata": {
    "collapsed": true
   },
   "outputs": [],
   "source": [
    "#file_name = \"rg17_20171003_8000_en-players_3h_accurate\"\n",
    "file_name = \"rg17_20171012_8000_en-players_3h_accurate\""
   ]
  },
  {
   "cell_type": "code",
   "execution_count": null,
   "metadata": {
    "collapsed": false
   },
   "outputs": [],
   "source": [
    "#file_path = \"/mnt/idms/bdavid/projects/twitter-comb-occ-2017/rg17/rg17_combOcc_results_20170922.txt\"\n",
    "#file_path = \"/mnt/idms/bdavid/projects/twitter-comb-occ-2017/rg17/rg17_8000_important_en_words_plus_players_results.txt\"\n",
    "#file_path = \"/mnt/idms/bdavid/projects/twitter-comb-occ-2017/rg17/rg17_8000_en-players_6h_accurate.txt\"\n",
    "file_path = \"/mnt/idms/bdavid/projects/twitter-comb-occ-2017/rg17/%s.txt\" % file_name\n",
    "#occurences_raw_pd = pd.read_csv(file_path, sep=\",\", header=None)#, nrows=1000)"
   ]
  },
  {
   "cell_type": "code",
   "execution_count": null,
   "metadata": {
    "collapsed": false
   },
   "outputs": [],
   "source": [
    "num_cols = 203\n",
    "raw_rows = []\n",
    "with open(file_path) as f:\n",
    "    i = 0\n",
    "    for line in f:\n",
    "        i += 1\n",
    "        splitted = line.rstrip().split(\",\")\n",
    "        if len(splitted) == 4:\n",
    "            # no combined occurences\n",
    "            continue\n",
    "        row = list(np.nan for i in range(num_cols))\n",
    "        row[:len(splitted)] = splitted\n",
    "        raw_rows.append(tuple(row))\n",
    "        #if i > 10:\n",
    "        #    break"
   ]
  },
  {
   "cell_type": "code",
   "execution_count": null,
   "metadata": {
    "collapsed": false
   },
   "outputs": [],
   "source": [
    "occurences_raw_pd = pd.DataFrame(raw_rows)"
   ]
  },
  {
   "cell_type": "code",
   "execution_count": null,
   "metadata": {
    "collapsed": false
   },
   "outputs": [],
   "source": [
    "len(occurences_raw_pd)"
   ]
  },
  {
   "cell_type": "code",
   "execution_count": null,
   "metadata": {
    "collapsed": false
   },
   "outputs": [],
   "source": [
    "occurences_raw_pd.head(5)"
   ]
  },
  {
   "cell_type": "markdown",
   "metadata": {},
   "source": [
    "# Clean columns"
   ]
  },
  {
   "cell_type": "code",
   "execution_count": null,
   "metadata": {
    "collapsed": true
   },
   "outputs": [],
   "source": [
    "def clean_cell(x):\n",
    "    out = x\n",
    "    try:\n",
    "        if not x is np.nan:\n",
    "            for pattern in [\"Some(\",\"List(\",\"(\",\")\",\" \"]:\n",
    "                if pattern in out:\n",
    "                    out = out.replace(pattern,\"\")\n",
    "    except:\n",
    "        print(x)\n",
    "        raise\n",
    "    return out"
   ]
  },
  {
   "cell_type": "code",
   "execution_count": null,
   "metadata": {
    "collapsed": false
   },
   "outputs": [],
   "source": [
    "occurences_pd = occurences_raw_pd.applymap(clean_cell)"
   ]
  },
  {
   "cell_type": "code",
   "execution_count": null,
   "metadata": {
    "collapsed": false
   },
   "outputs": [],
   "source": [
    "num_key_words = 100\n",
    "kw_text_cols = [0] + [(i+1)*2+1 for i in range(num_key_words)]\n",
    "kw_count_cols = [(i+1)*2+2 for i in range(num_key_words)]"
   ]
  },
  {
   "cell_type": "code",
   "execution_count": null,
   "metadata": {
    "collapsed": false
   },
   "outputs": [],
   "source": [
    "kw_text_cols[:4]"
   ]
  },
  {
   "cell_type": "markdown",
   "metadata": {},
   "source": [
    "### Convert numericals columns"
   ]
  },
  {
   "cell_type": "code",
   "execution_count": null,
   "metadata": {
    "collapsed": false
   },
   "outputs": [],
   "source": [
    "occurences_pd[kw_count_cols] = occurences_pd[kw_count_cols].astype(\"float64\")"
   ]
  },
  {
   "cell_type": "markdown",
   "metadata": {},
   "source": [
    "### Introduce new columns"
   ]
  },
  {
   "cell_type": "code",
   "execution_count": null,
   "metadata": {
    "collapsed": true
   },
   "outputs": [],
   "source": [
    "occurences_pd[\"key_word\"] = occurences_pd[0]\n",
    "occurences_pd[\"count\"] = occurences_pd[kw_count_cols].max(axis=1)\n",
    "del occurences_pd[0]"
   ]
  },
  {
   "cell_type": "code",
   "execution_count": null,
   "metadata": {
    "collapsed": false
   },
   "outputs": [],
   "source": [
    "old_cols = list(occurences_pd.columns)\n",
    "new_cols = [\"start_time\",\"end_time\"] + list(range(1,201)) + [\"key_word\", \"count\"]\n",
    "occurences_pd.columns = new_cols\n",
    "# changing order\n",
    "occurences_pd = occurences_pd[[\"start_time\",\"end_time\"] + [\"key_word\", \"count\"] + list(range(1,201))]"
   ]
  },
  {
   "cell_type": "code",
   "execution_count": null,
   "metadata": {
    "collapsed": false
   },
   "outputs": [],
   "source": [
    "occurences_pd.head(5)"
   ]
  },
  {
   "cell_type": "markdown",
   "metadata": {},
   "source": [
    "# Export occurences in tabular format"
   ]
  },
  {
   "cell_type": "code",
   "execution_count": null,
   "metadata": {
    "collapsed": false
   },
   "outputs": [],
   "source": [
    "output_file = \"/mnt/idms/fberes/network/roland_garros/%s.csv\" % file_name\n",
    "print(output_file)\n",
    "occurences_pd.to_csv(output_file,sep=\"|\",index=False, header=True)"
   ]
  }
 ],
 "metadata": {
  "anaconda-cloud": {},
  "kernelspec": {
   "display_name": "Python [conda env:dm-3-env]",
   "language": "python",
   "name": "conda-env-dm-3-env-py"
  },
  "language_info": {
   "codemirror_mode": {
    "name": "ipython",
    "version": 3
   },
   "file_extension": ".py",
   "mimetype": "text/x-python",
   "name": "python",
   "nbconvert_exporter": "python",
   "pygments_lexer": "ipython3",
   "version": "3.5.2"
  }
 },
 "nbformat": 4,
 "nbformat_minor": 2
}