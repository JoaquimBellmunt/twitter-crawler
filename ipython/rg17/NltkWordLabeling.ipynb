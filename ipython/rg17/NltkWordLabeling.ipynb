{
 "cells": [
  {
   "cell_type": "code",
   "execution_count": null,
   "metadata": {
    "collapsed": false
   },
   "outputs": [],
   "source": [
    "import pandas as pd\n",
    "from nltk import word_tokenize, pos_tag, ne_chunk\n",
    "from unidecode import unidecode\n",
    "import nltk"
   ]
  },
  {
   "cell_type": "code",
   "execution_count": null,
   "metadata": {
    "collapsed": false
   },
   "outputs": [],
   "source": [
    "tweets = pd.read_csv('/mnt/idms/fberes/network/roland_garros/data/rg17_tweets_eng.csv',sep='|')\n",
    "tweets['text']=tweets['text'].apply(lambda x: unidecode(unicode(x, encoding = \"utf-8\")))\n",
    "tweets[:10]"
   ]
  },
  {
   "cell_type": "code",
   "execution_count": null,
   "metadata": {
    "collapsed": true
   },
   "outputs": [],
   "source": [
    "def get_labeled_words(text,label):\n",
    "    wordlist=[]\n",
    "    for subtree in text.subtrees(filter=lambda t: t.label()==label):\n",
    "        for leave in subtree.leaves():\n",
    "            wordlist.append(leave[0])\n",
    "    return wordlist"
   ]
  },
  {
   "cell_type": "code",
   "execution_count": null,
   "metadata": {
    "collapsed": false
   },
   "outputs": [],
   "source": [
    "def label_table(data,label):\n",
    "    word_list = [x for sublist in data for x in sublist]\n",
    "    if word_list:\n",
    "        word_count = {word:word_list.count(word) for word in set(word_list)}\n",
    "        df=pd.DataFrame.from_dict(word_count, orient='index')\n",
    "        df.columns=['count']\n",
    "        df['label']=label\n",
    "        df.index.name='word'\n",
    "    else:\n",
    "        df=pd.DataFrame()\n",
    "    return df"
   ]
  },
  {
   "cell_type": "code",
   "execution_count": null,
   "metadata": {
    "collapsed": true
   },
   "outputs": [],
   "source": [
    "num = 1000\n",
    "tweets['groupby_col'] = [x/1000 for x in range(len(tweets))]\n",
    "grouped_tweets = tweets.groupby('groupby_col')[['text']].aggregate(lambda x: ''.join(x))"
   ]
  },
  {
   "cell_type": "code",
   "execution_count": null,
   "metadata": {
    "collapsed": false
   },
   "outputs": [],
   "source": [
    "%%time\n",
    "grouped_tweets['ne_chunk']=grouped_tweets['text'].apply(lambda x: ne_chunk(pos_tag(word_tokenize(x))))\n",
    "labels=['FACILITY', 'GPE', 'GSP', 'LOCATION', 'ORGANIZATION', 'PERSON']\n",
    "labeled_words=pd.DataFrame()\n",
    "for label in labels:\n",
    "    labeled_word_list=grouped_tweets['ne_chunk'].apply(lambda x: get_labeled_words(x,label))\n",
    "    labeled_df = label_table(labeled_word_list,label)\n",
    "    labeled_words = labeled_words.append(labeled_df)"
   ]
  },
  {
   "cell_type": "code",
   "execution_count": null,
   "metadata": {
    "collapsed": false,
    "scrolled": true
   },
   "outputs": [],
   "source": [
    "labeled_words"
   ]
  },
  {
   "cell_type": "code",
   "execution_count": null,
   "metadata": {
    "collapsed": true
   },
   "outputs": [],
   "source": [
    "labeled_words.to_csv('/mnt/idms/fberes/network/combined_occ/nltk_labeled_words.csv',sep='|',index=True,header=True)"
   ]
  }
 ],
 "metadata": {
  "anaconda-cloud": {},
  "kernelspec": {
   "display_name": "Python [conda env:jupyter2]",
   "language": "python",
   "name": "conda-env-jupyter2-py"
  },
  "language_info": {
   "codemirror_mode": {
    "name": "ipython",
    "version": 2
   },
   "file_extension": ".py",
   "mimetype": "text/x-python",
   "name": "python",
   "nbconvert_exporter": "python",
   "pygments_lexer": "ipython2",
   "version": "2.7.12"
  }
 },
 "nbformat": 4,
 "nbformat_minor": 1
}
