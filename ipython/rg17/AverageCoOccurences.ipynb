{
 "cells": [
  {
   "cell_type": "code",
   "execution_count": null,
   "metadata": {
    "collapsed": false
   },
   "outputs": [],
   "source": [
    "from IPython.core.display import HTML\n",
    "HTML(\"<style>.container { width:100% !important; }</style>\")"
   ]
  },
  {
   "cell_type": "code",
   "execution_count": null,
   "metadata": {
    "collapsed": true
   },
   "outputs": [],
   "source": [
    "import pandas as pd\n",
    "import numpy as np"
   ]
  },
  {
   "cell_type": "code",
   "execution_count": null,
   "metadata": {
    "collapsed": true
   },
   "outputs": [],
   "source": [
    "%matplotlib inline\n",
    "import seaborn as sns\n",
    "sns.set(font=\"DejaVu Sans\")\n",
    "import matplotlib.pyplot as plt"
   ]
  },
  {
   "cell_type": "code",
   "execution_count": null,
   "metadata": {
    "collapsed": false
   },
   "outputs": [],
   "source": [
    "import sys\n",
    "sys.path.insert(0,\"../../python/\")\n",
    "from rg17 import evaluate_toplist as et"
   ]
  },
  {
   "cell_type": "markdown",
   "metadata": {},
   "source": [
    "# Load player accounts\n",
    "\n",
    "   * to lowercase\n",
    "   * '_' character removed\n",
    "   * numerical characters were removed as well - **NOT YET!!!**"
   ]
  },
  {
   "cell_type": "code",
   "execution_count": null,
   "metadata": {
    "collapsed": false
   },
   "outputs": [],
   "source": [
    "player_accounts = et.load_player_accounts(remove_digits=False)"
   ]
  },
  {
   "cell_type": "code",
   "execution_count": null,
   "metadata": {
    "collapsed": false
   },
   "outputs": [],
   "source": [
    "player_accounts[:10]"
   ]
  },
  {
   "cell_type": "markdown",
   "metadata": {},
   "source": [
    "# Load occurances file"
   ]
  },
  {
   "cell_type": "code",
   "execution_count": null,
   "metadata": {
    "collapsed": false
   },
   "outputs": [],
   "source": [
    "occurences_pd = pd.read_csv(\"/mnt/idms/fberes/network/roland_garros/rg17_20171003_8000_en-players_3h_accurate.csv\",sep=\"|\")\n",
    "len(occurences_pd)"
   ]
  },
  {
   "cell_type": "code",
   "execution_count": null,
   "metadata": {
    "collapsed": false
   },
   "outputs": [],
   "source": [
    "occurences_pd.head()"
   ]
  },
  {
   "cell_type": "markdown",
   "metadata": {},
   "source": [
    "# TODO: lot of missing players"
   ]
  },
  {
   "cell_type": "code",
   "execution_count": null,
   "metadata": {
    "collapsed": false
   },
   "outputs": [],
   "source": [
    "len(player_accounts)"
   ]
  },
  {
   "cell_type": "code",
   "execution_count": null,
   "metadata": {
    "collapsed": false
   },
   "outputs": [],
   "source": [
    "len(set(occurences_pd[\"key_word\"].unique()).intersection(set(player_accounts)))"
   ]
  },
  {
   "cell_type": "code",
   "execution_count": null,
   "metadata": {
    "collapsed": false
   },
   "outputs": [],
   "source": [
    "set(player_accounts).difference(set(occurences_pd[\"key_word\"].unique()))"
   ]
  },
  {
   "cell_type": "code",
   "execution_count": null,
   "metadata": {
    "collapsed": true
   },
   "outputs": [],
   "source": [
    "word_cols = [str(i) for i in range(1,201,2)]\n",
    "count_cols = [str(i) for i in range(2,201,2)]"
   ]
  },
  {
   "cell_type": "markdown",
   "metadata": {},
   "source": [
    "# Additional words to examine"
   ]
  },
  {
   "cell_type": "code",
   "execution_count": null,
   "metadata": {
    "collapsed": true
   },
   "outputs": [],
   "source": [
    "special_words = [\"rolandgarros\", \"frenchopen\", \"match\", \"play\", \"fight\", \"face\", \"result\", \"court\", \"now\", \"today\", \"tomorrow\", \"injury\", \"shock\"]\n",
    "special_words += [\"qualifi\", \"surviv\", \"elimin\", \"domin\"]\n",
    "special_words += [\"birthday\"]\n",
    "special_words += [\"wins\", \"win\", \"won\", \"champion\", \"champ\", \"king\", \"beat\", \"trophy\", \"triumph\", \"overcom\"]\n",
    "special_words += [\"lose\", \"loss\", \"lost\", \"defeat\", \"beaten\", \"broken\", \"break\"]"
   ]
  },
  {
   "cell_type": "code",
   "execution_count": null,
   "metadata": {
    "collapsed": true
   },
   "outputs": [],
   "source": [
    "special_words += [\"rafa\",\"nadal\",\"rafael\",\"rafaelnadal\"]\n",
    "special_words += [\"stan\",\"wawrinka\",\"stantheman\"]\n",
    "special_words += [\"andy\",\"murray\",\"andymurray\"]\n",
    "special_words += [\"thiem\",\"dominique\"]\n",
    "special_words += [\"novak\",\"djokovic\"]"
   ]
  },
  {
   "cell_type": "code",
   "execution_count": null,
   "metadata": {
    "collapsed": true
   },
   "outputs": [],
   "source": [
    "occurences_pd = occurences_pd[occurences_pd[\"key_word\"].isin(player_accounts+special_words)]"
   ]
  },
  {
   "cell_type": "code",
   "execution_count": null,
   "metadata": {
    "collapsed": false
   },
   "outputs": [],
   "source": [
    "len(occurences_pd)"
   ]
  },
  {
   "cell_type": "markdown",
   "metadata": {},
   "source": [
    "### Normalization of counts in each snapshot: a word can even occur in all messages in the given timestamp"
   ]
  },
  {
   "cell_type": "code",
   "execution_count": null,
   "metadata": {
    "collapsed": false
   },
   "outputs": [],
   "source": [
    "occurences_pd.head()"
   ]
  },
  {
   "cell_type": "code",
   "execution_count": null,
   "metadata": {
    "collapsed": false
   },
   "outputs": [],
   "source": [
    "\"win\" in occurences_pd[\"3\"].unique()"
   ]
  },
  {
   "cell_type": "code",
   "execution_count": null,
   "metadata": {
    "collapsed": false
   },
   "outputs": [],
   "source": [
    "for col in count_cols:\n",
    "    occurences_pd[col] = occurences_pd[col] / occurences_pd[\"count\"]"
   ]
  },
  {
   "cell_type": "code",
   "execution_count": null,
   "metadata": {
    "collapsed": false
   },
   "outputs": [],
   "source": [
    "occurences_pd.head()"
   ]
  },
  {
   "cell_type": "markdown",
   "metadata": {},
   "source": [
    "### Restructure data"
   ]
  },
  {
   "cell_type": "code",
   "execution_count": null,
   "metadata": {
    "collapsed": false
   },
   "outputs": [],
   "source": [
    "pair_occs_df = pd.DataFrame()\n",
    "size = len(word_cols)\n",
    "for idx, row in occurences_pd.iterrows():\n",
    "    hour = row[0].split(\"T\")[1][:2]\n",
    "    hours = [hour for i in range(size)]\n",
    "    times = [row[0] for i in range(size)]\n",
    "    key_words = [row[2] for i in range(size)]\n",
    "    some_occs = list(zip(times,hours,key_words,row[word_cols],row[count_cols]))\n",
    "    tmp_df = pd.DataFrame(some_occs, columns=[\"time\",\"hour\",\"word_1\",\"word_2\",\"count\"])\n",
    "    tmp_df = tmp_df[~tmp_df[\"word_2\"].isnull()]\n",
    "    pair_occs_df = pd.concat([pair_occs_df, tmp_df])"
   ]
  },
  {
   "cell_type": "code",
   "execution_count": null,
   "metadata": {
    "collapsed": true
   },
   "outputs": [],
   "source": [
    "pair_occs_df = pair_occs_df.reset_index()\n",
    "del pair_occs_df[\"index\"]"
   ]
  },
  {
   "cell_type": "code",
   "execution_count": null,
   "metadata": {
    "collapsed": false
   },
   "outputs": [],
   "source": [
    "pair_occs_df.head()"
   ]
  },
  {
   "cell_type": "code",
   "execution_count": null,
   "metadata": {
    "collapsed": false
   },
   "outputs": [],
   "source": [
    "word2_freqs = pair_occs_df.groupby(by=[\"word_2\"])[\"time\"].count()"
   ]
  },
  {
   "cell_type": "markdown",
   "metadata": {},
   "source": [
    "word2_freqs.sort_values(ascending=False)"
   ]
  },
  {
   "cell_type": "code",
   "execution_count": null,
   "metadata": {
    "collapsed": false
   },
   "outputs": [],
   "source": [
    "(word2_freqs > 2).value_counts()"
   ]
  },
  {
   "cell_type": "code",
   "execution_count": null,
   "metadata": {
    "collapsed": false
   },
   "outputs": [],
   "source": [
    "filtered_word_2 = list(word2_freqs[word2_freqs > 2].index)"
   ]
  },
  {
   "cell_type": "markdown",
   "metadata": {},
   "source": [
    "word2_freqs.mean()"
   ]
  },
  {
   "cell_type": "markdown",
   "metadata": {},
   "source": [
    "%matplotlib inline\n",
    "import matplotlib.pyplot as plt"
   ]
  },
  {
   "cell_type": "markdown",
   "metadata": {},
   "source": [
    "s = 50.0\n",
    "var = s**2\n",
    "occ = np.array(range(1000))\n",
    "exponents = - np.power(occ,1.3) / (2*var)\n",
    "lin_part = occ / var\n",
    "vals = lin_part * np.exp(exponents)\n",
    "plt.plot(occ,vals)"
   ]
  },
  {
   "cell_type": "code",
   "execution_count": null,
   "metadata": {
    "collapsed": true
   },
   "outputs": [],
   "source": [
    "pair_occs_df = pair_occs_df[pair_occs_df[\"word_2\"].isin(filtered_word_2)]"
   ]
  },
  {
   "cell_type": "markdown",
   "metadata": {},
   "source": [
    "### Excluding stop words"
   ]
  },
  {
   "cell_type": "code",
   "execution_count": null,
   "metadata": {
    "collapsed": true
   },
   "outputs": [],
   "source": [
    "excluded_words = [\"@rolandgarros\",\"the\", \"and\", \"that\", \"this\", \"is\", \"are\", \"what\", \"who\", \"which\", \"was\", \"were\"]"
   ]
  },
  {
   "cell_type": "code",
   "execution_count": null,
   "metadata": {
    "collapsed": true
   },
   "outputs": [],
   "source": [
    "pair_occs_df = pair_occs_df[~pair_occs_df[\"word_2\"].isin(excluded_words)]"
   ]
  },
  {
   "cell_type": "markdown",
   "metadata": {},
   "source": [
    "### Dropping self-mentions"
   ]
  },
  {
   "cell_type": "code",
   "execution_count": null,
   "metadata": {
    "collapsed": false
   },
   "outputs": [],
   "source": [
    "print(len(pair_occs_df))\n",
    "pair_occs_df = pair_occs_df[~(pair_occs_df[\"word_1\"] == pair_occs_df[\"word_2\"])]\n",
    "print(len(pair_occs_df))"
   ]
  },
  {
   "cell_type": "markdown",
   "metadata": {},
   "source": [
    "# Calculate co-occurence statistics for snapshots"
   ]
  },
  {
   "cell_type": "markdown",
   "metadata": {},
   "source": [
    "# TODO: Actually I should compute the occ_scores temporally (only taking into account the past occurences...)"
   ]
  },
  {
   "cell_type": "code",
   "execution_count": null,
   "metadata": {
    "collapsed": true
   },
   "outputs": [],
   "source": [
    "pair_occs_df[\"date\"] = pair_occs_df[\"time\"].apply(lambda x: x.split(\"T\")[0])"
   ]
  },
  {
   "cell_type": "code",
   "execution_count": null,
   "metadata": {
    "collapsed": true
   },
   "outputs": [],
   "source": [
    "pair_occs_for_stats_df = pair_occs_df[~pair_occs_df[\"date\"].isin(['2017-06-11','2017-06-12','2017-06-13','2017-06-14','2017-06-15','2017-06-16'])]"
   ]
  },
  {
   "cell_type": "code",
   "execution_count": null,
   "metadata": {
    "collapsed": false
   },
   "outputs": [],
   "source": [
    "len(pair_occs_for_stats_df)"
   ]
  },
  {
   "cell_type": "markdown",
   "metadata": {},
   "source": [
    "## a.) Calculate global mean"
   ]
  },
  {
   "cell_type": "code",
   "execution_count": null,
   "metadata": {
    "collapsed": true
   },
   "outputs": [],
   "source": [
    "global_count_occs = pair_occs_for_stats_df.groupby(by=[\"word_1\",\"word_2\"])[\"count\"].count().reset_index()"
   ]
  },
  {
   "cell_type": "markdown",
   "metadata": {},
   "source": [
    "### Drop occurences that occur in only one snapshot"
   ]
  },
  {
   "cell_type": "code",
   "execution_count": null,
   "metadata": {
    "collapsed": false
   },
   "outputs": [],
   "source": [
    "print(len(global_count_occs))\n",
    "count_tmp_df = global_count_occs[global_count_occs[\"count\"] > 1]\n",
    "print(len(count_tmp_df))"
   ]
  },
  {
   "cell_type": "code",
   "execution_count": null,
   "metadata": {
    "collapsed": false
   },
   "outputs": [],
   "source": [
    "filtered_word_pairs = set(zip(count_tmp_df[\"word_1\"],count_tmp_df[\"word_2\"]))"
   ]
  },
  {
   "cell_type": "code",
   "execution_count": null,
   "metadata": {
    "collapsed": false
   },
   "outputs": [],
   "source": [
    "pair_occs_df.head()"
   ]
  },
  {
   "cell_type": "code",
   "execution_count": null,
   "metadata": {
    "collapsed": false
   },
   "outputs": [],
   "source": [
    "filtered_pair_occs_df = pair_occs_for_stats_df[pair_occs_for_stats_df.apply(lambda x: (x[\"word_1\"], x[\"word_2\"]) in filtered_word_pairs, axis=1)]"
   ]
  },
  {
   "cell_type": "code",
   "execution_count": null,
   "metadata": {
    "collapsed": false
   },
   "outputs": [],
   "source": [
    "len(filtered_pair_occs_df)"
   ]
  },
  {
   "cell_type": "markdown",
   "metadata": {},
   "source": [
    "### Calculating the mean of the fractions for all snapshots"
   ]
  },
  {
   "cell_type": "code",
   "execution_count": null,
   "metadata": {
    "collapsed": true
   },
   "outputs": [],
   "source": [
    "global_mean_occs = filtered_pair_occs_df.groupby(by=[\"word_1\",\"word_2\"])[\"count\"].mean().reset_index()"
   ]
  },
  {
   "cell_type": "code",
   "execution_count": null,
   "metadata": {
    "collapsed": false
   },
   "outputs": [],
   "source": [
    "len(global_mean_occs) == len(count_tmp_df)"
   ]
  },
  {
   "cell_type": "code",
   "execution_count": null,
   "metadata": {
    "collapsed": false
   },
   "outputs": [],
   "source": [
    "global_mean_occs[\"count\"].hist()"
   ]
  },
  {
   "cell_type": "code",
   "execution_count": null,
   "metadata": {
    "collapsed": false
   },
   "outputs": [],
   "source": [
    "global_mean_occs[\"key\"] = list(zip(global_mean_occs[\"word_1\"],global_mean_occs[\"word_2\"]))\n",
    "GLOBAL_MEANS = dict(zip(global_mean_occs[\"key\"],global_mean_occs[\"count\"]))"
   ]
  },
  {
   "cell_type": "markdown",
   "metadata": {},
   "source": [
    "## b.) Calculate snapshot mean\n",
    "\n",
    "#### Still using only (word1,word2) pairs that occured in multiple snapshots"
   ]
  },
  {
   "cell_type": "code",
   "execution_count": null,
   "metadata": {
    "collapsed": true
   },
   "outputs": [],
   "source": [
    "snapshot_mean_occs = filtered_pair_occs_df.groupby(by=[\"word_1\",\"word_2\",\"hour\"])[\"count\"].mean().reset_index()"
   ]
  },
  {
   "cell_type": "code",
   "execution_count": null,
   "metadata": {
    "collapsed": true
   },
   "outputs": [],
   "source": [
    "snapshot_mean_occs[\"key\"] = list(zip(snapshot_mean_occs[\"word_1\"],snapshot_mean_occs[\"word_2\"],snapshot_mean_occs[\"hour\"]))\n",
    "SNAPSHOT_MEANS = dict(zip(snapshot_mean_occs[\"key\"],snapshot_mean_occs[\"count\"]))"
   ]
  },
  {
   "cell_type": "markdown",
   "metadata": {},
   "source": [
    "# Calculate occurence score"
   ]
  },
  {
   "cell_type": "code",
   "execution_count": null,
   "metadata": {
    "collapsed": false
   },
   "outputs": [],
   "source": [
    "\"win\" in pair_occs_df[\"word_2\"].unique()"
   ]
  },
  {
   "cell_type": "markdown",
   "metadata": {
    "collapsed": false
   },
   "source": [
    "pair_occs_df.head()"
   ]
  },
  {
   "cell_type": "code",
   "execution_count": null,
   "metadata": {
    "collapsed": true
   },
   "outputs": [],
   "source": [
    "def fill_with_global_score(row):\n",
    "    key = (row[\"word_1\"],row[\"word_2\"])\n",
    "    return GLOBAL_MEANS[key] if key in GLOBAL_MEANS else 0.0"
   ]
  },
  {
   "cell_type": "code",
   "execution_count": null,
   "metadata": {
    "collapsed": false
   },
   "outputs": [],
   "source": [
    "pair_occs_df[\"global_val\"] = pair_occs_df.apply(fill_with_global_score, axis=1)"
   ]
  },
  {
   "cell_type": "code",
   "execution_count": null,
   "metadata": {
    "collapsed": true
   },
   "outputs": [],
   "source": [
    "def fill_with_snapshot_score(row):\n",
    "    key = (row[\"word_1\"],row[\"word_2\"],row[\"hour\"])\n",
    "    return SNAPSHOT_MEANS[key] if key in SNAPSHOT_MEANS else 0.0"
   ]
  },
  {
   "cell_type": "code",
   "execution_count": null,
   "metadata": {
    "collapsed": false
   },
   "outputs": [],
   "source": [
    "pair_occs_df[\"snapshot_val\"] = pair_occs_df.apply(fill_with_snapshot_score, axis=1)"
   ]
  },
  {
   "cell_type": "code",
   "execution_count": null,
   "metadata": {
    "collapsed": true
   },
   "outputs": [],
   "source": [
    "def calculate_occ_score(row):\n",
    "    return (1.0 + 2.0 * row[\"count\"]) / (1.0 + row[\"global_val\"] + row[\"snapshot_val\"])"
   ]
  },
  {
   "cell_type": "code",
   "execution_count": null,
   "metadata": {
    "collapsed": true
   },
   "outputs": [],
   "source": [
    "pair_occs_df[\"occ_score\"] = pair_occs_df.apply(calculate_occ_score, axis=1)"
   ]
  },
  {
   "cell_type": "code",
   "execution_count": null,
   "metadata": {
    "collapsed": true
   },
   "outputs": [],
   "source": [
    "pair_occs_df[\"day\"] = pair_occs_df[\"time\"].apply(lambda x: x.split(\"T\")[0])"
   ]
  },
  {
   "cell_type": "code",
   "execution_count": null,
   "metadata": {
    "collapsed": false
   },
   "outputs": [],
   "source": [
    "pair_occs_df.head()"
   ]
  },
  {
   "cell_type": "markdown",
   "metadata": {},
   "source": [
    "# Analyze results"
   ]
  },
  {
   "cell_type": "code",
   "execution_count": null,
   "metadata": {
    "collapsed": false
   },
   "outputs": [],
   "source": [
    "schedule_df = pd.read_csv(\"/mnt/idms/fberes/network/roland_garros/data/schedule_new_df.csv\", sep=\"|\")\n",
    "schedule_df.head()"
   ]
  },
  {
   "cell_type": "code",
   "execution_count": null,
   "metadata": {
    "collapsed": false
   },
   "outputs": [],
   "source": [
    "def show_occ_score(w1, w2):\n",
    "    filtered_df = pair_occs_df[(pair_occs_df[\"word_1\"] == w1) & (pair_occs_df[\"word_2\"] == w2)]\n",
    "    pivot_scores = pd.pivot_table(filtered_df, values=\"occ_score\", index=\"hour\", columns=\"day\")\n",
    "    fig, ax = plt.subplots(figsize=(30,5))\n",
    "    plt.title(\"%s->%s: %i record\" % (w1, w2, len(filtered_df)))\n",
    "    sns.heatmap(pivot_scores, ax=ax)\n",
    "    plt.show()"
   ]
  },
  {
   "cell_type": "markdown",
   "metadata": {},
   "source": [
    "## Rafa nadal matches\n",
    "\n",
    "   * the first few matches of Nadal has high scores"
   ]
  },
  {
   "cell_type": "code",
   "execution_count": null,
   "metadata": {
    "collapsed": false
   },
   "outputs": [],
   "source": [
    "name = \"Rafael Nadal\"\n",
    "schedule_df[(schedule_df[\"playerName active\"] == name) | (schedule_df[\"playerName opponent\"] == name)]"
   ]
  },
  {
   "cell_type": "code",
   "execution_count": null,
   "metadata": {
    "collapsed": false
   },
   "outputs": [],
   "source": [
    "show_occ_score(\"@rafaelnadal\",\"match\")"
   ]
  },
  {
   "cell_type": "code",
   "execution_count": null,
   "metadata": {
    "collapsed": false
   },
   "outputs": [],
   "source": [
    "show_occ_score(\"@rafaelnadal\",\"win\")"
   ]
  },
  {
   "cell_type": "markdown",
   "metadata": {},
   "source": [
    "## How often are the two finalist mentioned together (Men's single final on 06-11)"
   ]
  },
  {
   "cell_type": "code",
   "execution_count": null,
   "metadata": {
    "collapsed": false
   },
   "outputs": [],
   "source": [
    "show_occ_score(\"@rafaelnadal\",\"@stanwawrinka\")"
   ]
  },
  {
   "cell_type": "markdown",
   "metadata": {},
   "source": [
    "## The winner is Nadal (Men's single final on 06-11)"
   ]
  },
  {
   "cell_type": "code",
   "execution_count": null,
   "metadata": {
    "collapsed": false
   },
   "outputs": [],
   "source": [
    "show_occ_score(\"@rafaelnadal\",\"champion\")"
   ]
  },
  {
   "cell_type": "code",
   "execution_count": null,
   "metadata": {
    "collapsed": false
   },
   "outputs": [],
   "source": [
    "show_occ_score(\"@stanwawrinka\",\"champion\")"
   ]
  },
  {
   "cell_type": "markdown",
   "metadata": {},
   "source": [
    "## The loser is Wawrinka (Men's single final on 06-11)"
   ]
  },
  {
   "cell_type": "code",
   "execution_count": null,
   "metadata": {
    "collapsed": false
   },
   "outputs": [],
   "source": [
    "show_occ_score(\"@stanwawrinka\",\"beat\")"
   ]
  },
  {
   "cell_type": "code",
   "execution_count": null,
   "metadata": {
    "collapsed": false
   },
   "outputs": [],
   "source": [
    "show_occ_score(\"@rafaelnadal\",\"beat\")"
   ]
  },
  {
   "cell_type": "markdown",
   "metadata": {},
   "source": [
    "## Nadal birthday: June 3"
   ]
  },
  {
   "cell_type": "code",
   "execution_count": null,
   "metadata": {
    "collapsed": false
   },
   "outputs": [],
   "source": [
    "show_occ_score(\"@rafaelnadal\",\"birthday\")"
   ]
  },
  {
   "cell_type": "markdown",
   "metadata": {},
   "source": [
    "## Novak Djokovic lost on 06-07 - occurences score diminishes after this day"
   ]
  },
  {
   "cell_type": "code",
   "execution_count": null,
   "metadata": {
    "collapsed": false
   },
   "outputs": [],
   "source": [
    "name = \"Novak Djokovic\"\n",
    "schedule_df[(schedule_df[\"playerName active\"] == name) | (schedule_df[\"playerName opponent\"] == name)]"
   ]
  },
  {
   "cell_type": "code",
   "execution_count": null,
   "metadata": {
    "collapsed": false
   },
   "outputs": [],
   "source": [
    "show_occ_score(\"@djokernole\",\"match\")"
   ]
  },
  {
   "cell_type": "markdown",
   "metadata": {
    "collapsed": true
   },
   "source": [
    "# Toplists"
   ]
  },
  {
   "cell_type": "code",
   "execution_count": null,
   "metadata": {
    "collapsed": false
   },
   "outputs": [],
   "source": [
    "pair_occs_df.head()"
   ]
  },
  {
   "cell_type": "code",
   "execution_count": null,
   "metadata": {
    "collapsed": false
   },
   "outputs": [],
   "source": [
    "def get_toplist(w1, snapshot_id):\n",
    "    filtered_df = pair_occs_df[(pair_occs_df[\"word_1\"] == w1) & (pair_occs_df[\"time\"] == snapshot_id)]\n",
    "    return filtered_df.sort_values(\"occ_score\", ascending=False)"
   ]
  },
  {
   "cell_type": "markdown",
   "metadata": {},
   "source": [
    "#### \"@stanwawrinka\" and \"final\" is in top5"
   ]
  },
  {
   "cell_type": "code",
   "execution_count": null,
   "metadata": {
    "collapsed": false
   },
   "outputs": [],
   "source": [
    "get_toplist(\"@rafaelnadal\",\"2017-06-11T09:00\").head(20)"
   ]
  },
  {
   "cell_type": "markdown",
   "metadata": {
    "collapsed": false
   },
   "source": [
    "get_toplist(\"@rafaelnadal\",\"2017-06-10T18:00\").head(20)"
   ]
  },
  {
   "cell_type": "markdown",
   "metadata": {},
   "source": [
    "#### \"@stanwawrinka\" is in top1"
   ]
  },
  {
   "cell_type": "code",
   "execution_count": null,
   "metadata": {
    "collapsed": false
   },
   "outputs": [],
   "source": [
    "get_toplist(\"@rafaelnadal\",\"2017-06-11T12:00\").head(20)"
   ]
  },
  {
   "cell_type": "markdown",
   "metadata": {},
   "source": [
    "#### \"win\", \"title\" and \"champion\" is in top words + \"congrat\""
   ]
  },
  {
   "cell_type": "code",
   "execution_count": null,
   "metadata": {
    "collapsed": false
   },
   "outputs": [],
   "source": [
    "get_toplist(\"@rafaelnadal\",\"2017-06-11T15:00\").head(20)"
   ]
  },
  {
   "cell_type": "code",
   "execution_count": null,
   "metadata": {
    "collapsed": false
   },
   "outputs": [],
   "source": [
    "get_toplist(\"@rafaelnadal\",\"2017-06-11T18:00\").head(20)"
   ]
  },
  {
   "cell_type": "markdown",
   "metadata": {},
   "source": [
    "#### nadal birthday"
   ]
  },
  {
   "cell_type": "code",
   "execution_count": null,
   "metadata": {
    "collapsed": false
   },
   "outputs": [],
   "source": [
    "get_toplist(\"@rafaelnadal\",\"2017-06-03T18:00\").head(20)"
   ]
  },
  {
   "cell_type": "code",
   "execution_count": null,
   "metadata": {
    "collapsed": false
   },
   "outputs": [],
   "source": [
    "len(pair_occs_df)"
   ]
  },
  {
   "cell_type": "code",
   "execution_count": null,
   "metadata": {
    "collapsed": false
   },
   "outputs": [],
   "source": [
    "get_toplist(\"play\",\"2017-06-04T18:00\").head(20)"
   ]
  },
  {
   "cell_type": "markdown",
   "metadata": {},
   "source": [
    "# Export data"
   ]
  },
  {
   "cell_type": "code",
   "execution_count": null,
   "metadata": {
    "collapsed": true
   },
   "outputs": [],
   "source": [
    "pair_occs_df.to_csv(\"/mnt/idms/fberes/network/roland_garros/occs_with_scores.csv\", index=False, sep=\"|\")"
   ]
  }
 ],
 "metadata": {
  "anaconda-cloud": {},
  "kernelspec": {
   "display_name": "Python [conda env:dm-3-env]",
   "language": "python",
   "name": "conda-env-dm-3-env-py"
  },
  "language_info": {
   "codemirror_mode": {
    "name": "ipython",
    "version": 3
   },
   "file_extension": ".py",
   "mimetype": "text/x-python",
   "name": "python",
   "nbconvert_exporter": "python",
   "pygments_lexer": "ipython3",
   "version": "3.5.2"
  }
 },
 "nbformat": 4,
 "nbformat_minor": 2
}