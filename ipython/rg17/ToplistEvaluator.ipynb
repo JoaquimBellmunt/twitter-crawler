{
 "cells": [
  {
   "cell_type": "code",
   "execution_count": null,
   "metadata": {
    "collapsed": true
   },
   "outputs": [],
   "source": [
    "import pandas as pd\n",
    "import numpy as np\n",
    "import json"
   ]
  },
  {
   "cell_type": "code",
   "execution_count": null,
   "metadata": {
    "collapsed": true
   },
   "outputs": [],
   "source": [
    "import sys\n",
    "sys.path.insert(0,\"../../python/\")\n",
    "from rg17 import evaluate_toplist as et"
   ]
  },
  {
   "cell_type": "code",
   "execution_count": null,
   "metadata": {
    "collapsed": true
   },
   "outputs": [],
   "source": [
    "%matplotlib inline\n",
    "import matplotlib.pyplot as plt\n",
    "import seaborn as sns\n",
    "sns.set(font=\"DejaVu Sans\")"
   ]
  },
  {
   "cell_type": "markdown",
   "metadata": {},
   "source": [
    "# Load Player Accounts"
   ]
  },
  {
   "cell_type": "code",
   "execution_count": null,
   "metadata": {
    "collapsed": false
   },
   "outputs": [],
   "source": [
    "with open(\"/mnt/idms/fberes/network/online_ranker/roland_garros_updated_schedule/filtered_true_matches.json\") as f:\n",
    "    player_account_map = json.load(f)"
   ]
  },
  {
   "cell_type": "markdown",
   "metadata": {},
   "source": [
    "## !!! Select main account for players: later we should decide whether we will enable multiple accounts in the evaluation"
   ]
  },
  {
   "cell_type": "code",
   "execution_count": null,
   "metadata": {
    "collapsed": true
   },
   "outputs": [],
   "source": [
    "player_account_map[\"Stan Wawrinka\"] = [\"stanwawrinka\"]\n",
    "player_account_map[\"Novak Djokovic\"] = [\"djokernole\"]\n",
    "player_account_map[\"Caroline Garcia\"] = [\"carogarcia\"]\n",
    "player_account_map[\"Caroline Wozniacki\"] = [\"carowozniacki\"]\n",
    "player_account_map[\"Marin Cilic\"] = [\"cilicmarin\"]\n",
    "player_account_map[\"Kristina Mladenovic\"] = [\"kikimladenovic\"]\n",
    "player_account_map[\"Dominic Thiem\"] = [\"thiemdomi\"]\n",
    "player_account_map[\"Rafael Nadal\"] = [\"rafaelnadal\"]\n",
    "player_account_map[\"Timea Bacsinszky\"] = [\"timeaofficial\"]\n",
    "player_account_map[\"Pablo Carreno Busta\"] = [\"pablocarreno91\"]\n",
    "player_account_map[\"Simona Halep\"] = [\"simonahalep\"]\n",
    "player_account_map[\"Andy Murray\"] = [\"andymurray\"]"
   ]
  },
  {
   "cell_type": "markdown",
   "metadata": {},
   "source": [
    "#### with underscore"
   ]
  },
  {
   "cell_type": "markdown",
   "metadata": {
    "collapsed": true
   },
   "source": [
    "player_account_map[\"Stan Wawrinka\"] = [\"stanwawrinka\"]\n",
    "player_account_map[\"Novak Djokovic\"] = [\"djokernole\"]\n",
    "player_account_map[\"Caroline Garcia\"] = [\"carogarcia\"]\n",
    "player_account_map[\"Caroline Wozniacki\"] = [\"carowozniacki\"]\n",
    "player_account_map[\"Marin Cilic\"] = [\"cilic_marin\"]\n",
    "player_account_map[\"Kristina Mladenovic\"] = [\"kikimladenovic\"]\n",
    "player_account_map[\"Dominic Thiem\"] = [\"thiemdomi\"]\n",
    "player_account_map[\"Rafael Nadal\"] = [\"rafaelnadal\"]\n",
    "player_account_map[\"Timea Bacsinszky\"] = [\"timeaofficial\"]\n",
    "player_account_map[\"Pablo Carreno Busta\"] = [\"pablocarreno91\"]\n",
    "player_account_map[\"Simona Halep\"] = [\"simona_halep\"]\n",
    "player_account_map[\"Andy Murray\"] = [\"andy_murray\"]"
   ]
  },
  {
   "cell_type": "markdown",
   "metadata": {},
   "source": [
    "# Load Schedule"
   ]
  },
  {
   "cell_type": "code",
   "execution_count": null,
   "metadata": {
    "collapsed": true
   },
   "outputs": [],
   "source": [
    "schedule_df = pd.read_csv(\"/mnt/idms/fberes/network/roland_garros/data/schedule_new_df.csv\", sep=\"|\")"
   ]
  },
  {
   "cell_type": "code",
   "execution_count": null,
   "metadata": {
    "collapsed": true
   },
   "outputs": [],
   "source": [
    "excluded_categories = [\"boy\", \"girl\", \"wheelchair\", \"legends over 45\"]"
   ]
  },
  {
   "cell_type": "markdown",
   "metadata": {},
   "source": [
    "# Filter Schedule\n",
    "\n",
    "   * only Single matches are kept\n",
    "   * only important categories are kept (Men's, Women's, Legends under 45)"
   ]
  },
  {
   "cell_type": "code",
   "execution_count": null,
   "metadata": {
    "collapsed": true
   },
   "outputs": [],
   "source": [
    "def filter_categories(match_cat, excluded_cats=excluded_categories):\n",
    "    match_cat_lower = match_cat.lower()\n",
    "    keep_this = True\n",
    "    for cat in excluded_cats:\n",
    "        if cat in match_cat_lower:\n",
    "            keep_this = False\n",
    "            break\n",
    "    if not (\"final\" in match_cat_lower and \"single\" in match_cat_lower):\n",
    "        keep_this = False\n",
    "    return keep_this"
   ]
  },
  {
   "cell_type": "code",
   "execution_count": null,
   "metadata": {
    "collapsed": false
   },
   "outputs": [],
   "source": [
    "finals_df = schedule_df[schedule_df[\"matchHeader\"].apply(filter_categories)]"
   ]
  },
  {
   "cell_type": "code",
   "execution_count": null,
   "metadata": {
    "collapsed": false
   },
   "outputs": [],
   "source": [
    "len(schedule_df), len(finals_df)"
   ]
  },
  {
   "cell_type": "markdown",
   "metadata": {},
   "source": [
    "## Single finals\n",
    "\n",
    "   * **canceled** matches are not excluded because people may talk about this events as well "
   ]
  },
  {
   "cell_type": "code",
   "execution_count": null,
   "metadata": {
    "collapsed": false
   },
   "outputs": [],
   "source": [
    "finals_df"
   ]
  },
  {
   "cell_type": "markdown",
   "metadata": {},
   "source": [
    "# Player name parts"
   ]
  },
  {
   "cell_type": "code",
   "execution_count": null,
   "metadata": {
    "collapsed": true
   },
   "outputs": [],
   "source": [
    "players = list(set(finals_df[\"playerName active\"]).union(finals_df[\"playerName opponent\"]))"
   ]
  },
  {
   "cell_type": "code",
   "execution_count": null,
   "metadata": {
    "collapsed": false
   },
   "outputs": [],
   "source": [
    "len(players)"
   ]
  },
  {
   "cell_type": "markdown",
   "metadata": {},
   "source": [
    "# TODO: later do NOT remove underscore"
   ]
  },
  {
   "cell_type": "code",
   "execution_count": null,
   "metadata": {
    "collapsed": false
   },
   "outputs": [],
   "source": [
    "player_info_map = {}\n",
    "for player in players:\n",
    "    player_info_map[player] = {\n",
    "        \"name_parts\": [p.lower() for p in player.split()],\n",
    "        \"accounts\": [\"@\" + et.transform_account_name(a, remove_digits=False, remove_under_score=True) for a in player_account_map[player]]\n",
    "    }"
   ]
  },
  {
   "cell_type": "markdown",
   "metadata": {},
   "source": [
    "## Show multi-account players"
   ]
  },
  {
   "cell_type": "code",
   "execution_count": null,
   "metadata": {
    "collapsed": false
   },
   "outputs": [],
   "source": [
    "for player, info in player_info_map.items():\n",
    "    if len(info[\"accounts\"]) > 1:\n",
    "        print(player, info[\"accounts\"])"
   ]
  },
  {
   "cell_type": "code",
   "execution_count": null,
   "metadata": {
    "collapsed": false
   },
   "outputs": [],
   "source": [
    "player_info_map"
   ]
  },
  {
   "cell_type": "markdown",
   "metadata": {
    "collapsed": true
   },
   "source": [
    "# Co-occurences"
   ]
  },
  {
   "cell_type": "code",
   "execution_count": null,
   "metadata": {
    "collapsed": true
   },
   "outputs": [],
   "source": [
    "pair_occs_df = pd.read_csv(\"/mnt/idms/fberes/network/roland_garros/occs_with_scores.csv\", sep=\"|\")"
   ]
  },
  {
   "cell_type": "code",
   "execution_count": null,
   "metadata": {
    "collapsed": false
   },
   "outputs": [],
   "source": [
    "pair_occs_df.head(2)"
   ]
  },
  {
   "cell_type": "code",
   "execution_count": null,
   "metadata": {
    "collapsed": false
   },
   "outputs": [],
   "source": [
    "word_2_set = set(pair_occs_df[\"word_2\"].unique())\n",
    "word_1_set = set(pair_occs_df[\"word_1\"].unique())\n",
    "len(word_1_set), len(word_2_set)"
   ]
  },
  {
   "cell_type": "code",
   "execution_count": null,
   "metadata": {
    "collapsed": false
   },
   "outputs": [],
   "source": [
    "def show_missing_words(info_key, word_set):\n",
    "    for player, info in player_info_map.items():\n",
    "        diff = list(set(info[info_key]).difference(word_set))\n",
    "        if len(diff) != 0:\n",
    "            print(\"%s: %s missing!\" % (player, diff))\n",
    "            \n",
    "def show_matching_words(info_key, word_set):\n",
    "    for player, info in player_info_map.items():\n",
    "        match = list(set(info[info_key]).intersection(word_set))\n",
    "        print(\"%s: %s\" % (player, match))"
   ]
  },
  {
   "cell_type": "markdown",
   "metadata": {},
   "source": [
    "## a.) Checking names (All names are present)"
   ]
  },
  {
   "cell_type": "code",
   "execution_count": null,
   "metadata": {
    "collapsed": false
   },
   "outputs": [],
   "source": [
    "show_missing_words(\"name_parts\", word_2_set)"
   ]
  },
  {
   "cell_type": "code",
   "execution_count": null,
   "metadata": {
    "collapsed": false
   },
   "outputs": [],
   "source": [
    "show_missing_words(\"name_parts\", word_1_set)"
   ]
  },
  {
   "cell_type": "markdown",
   "metadata": {
    "collapsed": false
   },
   "source": [
    "show_matching_words(\"name_parts\", word_1_set)"
   ]
  },
  {
   "cell_type": "markdown",
   "metadata": {},
   "source": [
    "## b.) Checking account names\n",
    "\n",
    "#### After dropping the additional player accounts only \"@cilicmarin\" is missing!!!"
   ]
  },
  {
   "cell_type": "code",
   "execution_count": null,
   "metadata": {
    "collapsed": false
   },
   "outputs": [],
   "source": [
    "show_missing_words(\"accounts\", word_2_set)"
   ]
  },
  {
   "cell_type": "code",
   "execution_count": null,
   "metadata": {
    "collapsed": false
   },
   "outputs": [],
   "source": [
    "show_missing_words(\"accounts\", word_1_set)"
   ]
  },
  {
   "cell_type": "markdown",
   "metadata": {
    "collapsed": false
   },
   "source": [
    "show_matching_words(\"accounts\", word_1_set)"
   ]
  },
  {
   "cell_type": "markdown",
   "metadata": {},
   "source": [
    "# Relevant player words"
   ]
  },
  {
   "cell_type": "markdown",
   "metadata": {},
   "source": [
    "## TODO: add players who play at the same time (only with smaller relevance!!!)"
   ]
  },
  {
   "cell_type": "code",
   "execution_count": null,
   "metadata": {
    "collapsed": false
   },
   "outputs": [],
   "source": [
    "finals_df.head(2)"
   ]
  },
  {
   "cell_type": "code",
   "execution_count": null,
   "metadata": {
    "collapsed": false
   },
   "outputs": [],
   "source": [
    "finals_df[finals_df[\"matchScore\"] == \"Cancelled\"]"
   ]
  },
  {
   "cell_type": "code",
   "execution_count": null,
   "metadata": {
    "collapsed": false
   },
   "outputs": [],
   "source": [
    "relevant_infos = []\n",
    "for idx, row in finals_df.iterrows():\n",
    "    date, time, winner, loser, category, score = row[\"date\"], row[\"startDate\"], row[\"playerName active\"], row[\"playerName opponent\"], row[\"matchHeader\"], row[\"matchScore\"]\n",
    "    if score == \"Cancelled\":\n",
    "        to_iterate_on = [(winner, loser, None),(loser, winner, None)]\n",
    "    else:\n",
    "        to_iterate_on = [(winner, loser, 1),(loser, winner, 0)]\n",
    "    for p1, p2, is_winner in to_iterate_on:\n",
    "        n1, n2 = player_info_map[p1][\"name_parts\"], player_info_map[p2][\"name_parts\"]\n",
    "        acc1, acc2 = player_info_map[p1][\"accounts\"], player_info_map[p2][\"accounts\"]\n",
    "        for w in n1+acc1:\n",
    "            player_relevant = n1+acc1\n",
    "            if \"men\" in category.lower():\n",
    "                player_relevant.append(\"men\")\n",
    "            else:\n",
    "                player_relevant.append(\"women\")\n",
    "            player_relevant.remove(w) # removing the examined key word\n",
    "            relevant_infos.append([date, time, p1, is_winner, w, player_relevant, p2, n2+acc2])\n",
    "relevant_df = pd.DataFrame(relevant_infos, columns=[\"date\",\"time\",\"player\",\"is_winner\",\"key_word\", \"key_relevant_words\", \"opponent\",\"opp_relevant_words\"])"
   ]
  },
  {
   "cell_type": "code",
   "execution_count": null,
   "metadata": {
    "collapsed": false
   },
   "outputs": [],
   "source": [
    "relevant_df.head(5)"
   ]
  },
  {
   "cell_type": "markdown",
   "metadata": {},
   "source": [
    "# TODO: winner evaluation\n",
    "\n",
    "   * for words like (win, won, triumph, victory etc.)\n",
    "   * see whether winner name parts are present or not!!!"
   ]
  },
  {
   "cell_type": "markdown",
   "metadata": {},
   "source": [
    "# NDCG calculator depends on the fact that we have binary relevances!!!\n",
    "\n",
    "## Random shuffle is not implemented yet for ties!!!"
   ]
  },
  {
   "cell_type": "code",
   "execution_count": null,
   "metadata": {
    "collapsed": false
   },
   "outputs": [],
   "source": [
    "def dcg(relevant_set, pred_order, k=None):\n",
    "    if k == None:\n",
    "        k = len(pred_order)\n",
    "    dcg_score = 0.0\n",
    "    for i in range(k):\n",
    "        word = pred_order[i]\n",
    "        if word in relevant_set:\n",
    "            # all relevance score is 1.0 here!\n",
    "            dcg_score += 1.0 / np.log(i+2)\n",
    "    return dcg_score\n",
    "\n",
    "def ndcg(relevant_set, pred_order, k=None):\n",
    "    #if k == None or (k > len(pred_order) or k > len(relevant_set)):\n",
    "    #    k = min(len(pred_order),len(relevant_set))\n",
    "    if len(pred_order) == 0.0:\n",
    "        return 0.0\n",
    "    else:\n",
    "        dcg_val, idcg_val = dcg(relevant_set,pred_order,k=k), dcg(relevant_set,relevant_set,k=k)\n",
    "        return float(dcg_val) / idcg_val \n",
    "\n",
    "print(ndcg([\"alma\",\"korte\"], [\"szilva\",\"alma\"], k=1))\n",
    "print(ndcg([\"alma\",\"korte\"], [\"korte\",\"alma\"], k=1))"
   ]
  },
  {
   "cell_type": "code",
   "execution_count": null,
   "metadata": {
    "collapsed": false
   },
   "outputs": [],
   "source": [
    "def get_ndcg_for_relevant_record(rel_rec, time_id, score_col, top_k=None, general_words=None):\n",
    "    snapshot_id = \"%sT%s\" % (rel_rec[\"date\"], time_id)\n",
    "    #relevant_words = rel_rec[\"key_relevant_words\"] + rel_rec[\"opp_relevant_words\"]\n",
    "    relevant_words = rel_rec[\"opp_relevant_words\"]\n",
    "    if general_words != None:\n",
    "        relevant_words += general_words\n",
    "    pred_words = list(et.get_toplist(pair_occs_df, [rel_rec[\"key_word\"]], [snapshot_id], score_col=score_col)[\"word_2\"])\n",
    "    ndcg_score = ndcg(relevant_words, pred_words, k=top_k)\n",
    "    return (snapshot_id, rel_rec[\"date\"], time_id, score_col, rel_rec[\"key_word\"], ndcg_score)"
   ]
  },
  {
   "cell_type": "markdown",
   "metadata": {},
   "source": [
    "# Experimental Scores"
   ]
  },
  {
   "cell_type": "code",
   "execution_count": null,
   "metadata": {
    "collapsed": false
   },
   "outputs": [],
   "source": [
    "pair_occs_df.head(2)"
   ]
  },
  {
   "cell_type": "markdown",
   "metadata": {},
   "source": [
    "## a.) occ_score_3"
   ]
  },
  {
   "cell_type": "code",
   "execution_count": null,
   "metadata": {
    "collapsed": true
   },
   "outputs": [],
   "source": [
    "pair_occs_df[\"occ_score_3\"] = pair_occs_df[\"count\"] + pair_occs_df[\"occ_score\"]"
   ]
  },
  {
   "cell_type": "markdown",
   "metadata": {},
   "source": [
    "## b.) occ_score_4"
   ]
  },
  {
   "cell_type": "code",
   "execution_count": null,
   "metadata": {
    "collapsed": false
   },
   "outputs": [],
   "source": [
    "def rayleigh(x, s=1.0):\n",
    "    var = s**2\n",
    "    return x / var * np.exp(-1.0 / (2*var) * x)"
   ]
  },
  {
   "cell_type": "code",
   "execution_count": null,
   "metadata": {
    "collapsed": false
   },
   "outputs": [],
   "source": [
    "x = np.arange(0,1,0.01)\n",
    "y = rayleigh(x, s=0.35)\n",
    "plt.plot(x,y)"
   ]
  },
  {
   "cell_type": "markdown",
   "metadata": {},
   "source": [
    "### Average fraction for word_2"
   ]
  },
  {
   "cell_type": "code",
   "execution_count": null,
   "metadata": {
    "collapsed": false
   },
   "outputs": [],
   "source": [
    "word_2_counts = pair_occs_df.groupby(by=[\"word_2\"])[\"count\"].mean()"
   ]
  },
  {
   "cell_type": "code",
   "execution_count": null,
   "metadata": {
    "collapsed": false
   },
   "outputs": [],
   "source": [
    "word_2_counts.mean()"
   ]
  },
  {
   "cell_type": "code",
   "execution_count": null,
   "metadata": {
    "collapsed": false
   },
   "outputs": [],
   "source": [
    "word_2_counts[\"@simonahalep\"], word_2_counts[\"simona\"], word_2_counts[\"halep\"]"
   ]
  },
  {
   "cell_type": "code",
   "execution_count": null,
   "metadata": {
    "collapsed": false
   },
   "outputs": [],
   "source": [
    "word_2_counts[\"@rafaelnadal\"], word_2_counts[\"rafael\"], word_2_counts[\"nadal\"]"
   ]
  },
  {
   "cell_type": "code",
   "execution_count": null,
   "metadata": {
    "collapsed": false
   },
   "outputs": [],
   "source": [
    "word_2_counts[\"win\"], word_2_counts[\"champion\"], word_2_counts[\"defeat\"]"
   ]
  },
  {
   "cell_type": "code",
   "execution_count": null,
   "metadata": {
    "collapsed": false
   },
   "outputs": [],
   "source": [
    "word_2_counts[\"men\"], word_2_counts[\"women\"]"
   ]
  },
  {
   "cell_type": "markdown",
   "metadata": {},
   "source": [
    "#### Based on former values s=0.35 seems to be a resonable choice"
   ]
  },
  {
   "cell_type": "code",
   "execution_count": null,
   "metadata": {
    "collapsed": true
   },
   "outputs": [],
   "source": [
    "s_val = 0.35\n",
    "pair_occs_df[\"rayleigh_%.2f\" % s_val] = pair_occs_df[\"word_2\"].apply(lambda x: rayleigh(word_2_counts[x], s=s_val))"
   ]
  },
  {
   "cell_type": "markdown",
   "metadata": {},
   "source": [
    "### occ_score_4 computation"
   ]
  },
  {
   "cell_type": "code",
   "execution_count": null,
   "metadata": {
    "collapsed": true
   },
   "outputs": [],
   "source": [
    "pair_occs_df[\"occ_score_4\"] = pair_occs_df[\"count\"] *  pair_occs_df[\"rayleigh_0.35\"]\n",
    "pair_occs_df[\"occ_score_5\"] = pair_occs_df[\"count\"] + pair_occs_df[\"rayleigh_0.35\"]"
   ]
  },
  {
   "cell_type": "markdown",
   "metadata": {},
   "source": [
    "# Results"
   ]
  },
  {
   "cell_type": "code",
   "execution_count": null,
   "metadata": {
    "collapsed": true
   },
   "outputs": [],
   "source": [
    "import sys, os, multiprocessing, functools"
   ]
  },
  {
   "cell_type": "markdown",
   "metadata": {},
   "source": [
    "#### General words can improve results"
   ]
  },
  {
   "cell_type": "code",
   "execution_count": null,
   "metadata": {
    "collapsed": true
   },
   "outputs": [],
   "source": [
    "def get_ndcg_single_thread(top_k, row, general_words, param_tuple):\n",
    "    time_id, score_col = param_tuple\n",
    "    return get_ndcg_for_relevant_record(row, time_id, score_col, general_words=general_words)\n",
    "\n",
    "def get_ndcg_from_threads(top_k, time_ids, score_cols, general_words, n_threads=1):\n",
    "    param_tuples = [(time_id, score_col) for time_id in time_ids for score_col in score_cols]\n",
    "    ndcg_info_list = []\n",
    "    for idx, row in relevant_df.iterrows():\n",
    "        f_partial = functools.partial(get_ndcg_single_thread, top_k, row, general_words)\n",
    "        pool = multiprocessing.Pool(processes=n_threads)\n",
    "        res = pool.map(f_partial, param_tuples)\n",
    "        pool.close()\n",
    "        pool.join()\n",
    "        ndcg_info_list += res\n",
    "    ndcg_df = pd.DataFrame(ndcg_info_list, columns=[\"snapshot_id\",\"date\",\"time\",\"score_id\",\"key_word\",\"ndcg\"])\n",
    "    return ndcg_df   "
   ]
  },
  {
   "cell_type": "code",
   "execution_count": null,
   "metadata": {
    "collapsed": false
   },
   "outputs": [],
   "source": [
    "%%time\n",
    "general_words = [\"play\",\"match\"]\n",
    "time_ids = [\"%.2i:00\" % t for t in [0,3,6,9,12,15,18,21]]\n",
    "score_cols = [\"count\",\"occ_score\",\"occ_score_2\",\"occ_score_3\",\"occ_score_4\",\"occ_score_5\"]\n",
    "ndcg_df = get_ndcg_from_threads(20, time_ids, score_cols, general_words, n_threads=20)"
   ]
  },
  {
   "cell_type": "code",
   "execution_count": null,
   "metadata": {
    "collapsed": false
   },
   "outputs": [],
   "source": [
    "len(ndcg_df)"
   ]
  },
  {
   "cell_type": "code",
   "execution_count": null,
   "metadata": {
    "collapsed": false
   },
   "outputs": [],
   "source": [
    "ndcg_df.head()"
   ]
  },
  {
   "cell_type": "markdown",
   "metadata": {},
   "source": [
    "## i.) Compare co-occurence scores for date\n",
    "\n",
    "   * the baseline score is the best (the fraction of co-occurences)\n",
    "   * occ_score_2 gives similar results..."
   ]
  },
  {
   "cell_type": "code",
   "execution_count": null,
   "metadata": {
    "collapsed": false
   },
   "outputs": [],
   "source": [
    "sns.factorplot(data=ndcg_df, x=\"date\", y=\"ndcg\", hue=\"score_id\", size=8)"
   ]
  },
  {
   "cell_type": "code",
   "execution_count": null,
   "metadata": {
    "collapsed": false
   },
   "outputs": [],
   "source": [
    "#score_col = \"occ_score_5\"\n",
    "score_col = \"count\"\n",
    "et.get_toplist(pair_occs_df, [\"simona\"], [\"2017-06-10T12:00\"], score_col=score_col)[[\"word_1\",\"word_2\",score_col]]"
   ]
  },
  {
   "cell_type": "markdown",
   "metadata": {},
   "source": [
    "pair_occs_df[pair_occs_df[\"date\"] == \"2017-06-10\"][\"word_1\"].value_counts()"
   ]
  },
  {
   "cell_type": "markdown",
   "metadata": {},
   "source": [
    "## ii.)  Compare co-occurence scores for time of day"
   ]
  },
  {
   "cell_type": "code",
   "execution_count": null,
   "metadata": {
    "collapsed": false
   },
   "outputs": [],
   "source": [
    "sns.factorplot(data=ndcg_df, x=\"time\", y=\"ndcg\", hue=\"score_id\", size=8)"
   ]
  },
  {
   "cell_type": "markdown",
   "metadata": {},
   "source": [
    "### We should evaluate at 9:00 AM (UTC -> 11:00 AM UTC+2) - it gives the most stable performance"
   ]
  },
  {
   "cell_type": "markdown",
   "metadata": {
    "collapsed": false
   },
   "source": [
    "score_2 = ndcg_df[ndcg_df[\"score_id\"] == \"occ_score_2\"]\n",
    "sns.factorplot(data=score_2, x=\"date\", y=\"ndcg\", hue=\"time\", size=8)"
   ]
  },
  {
   "cell_type": "markdown",
   "metadata": {},
   "source": [
    "# difference between players - Huge differences :("
   ]
  },
  {
   "cell_type": "code",
   "execution_count": null,
   "metadata": {
    "collapsed": false
   },
   "outputs": [],
   "source": [
    "key_words = [\"nadal\",\"wawrinka\",\"ostapenko\",\"halep\",\"murray\",\"djokovic\"]\n",
    "score_filtered = ndcg_df[ndcg_df[\"key_word\"].isin(key_words)]\n",
    "sns.factorplot(data=score_filtered, x=\"date\", y=\"ndcg\", hue=\"key_word\", size=8)"
   ]
  },
  {
   "cell_type": "markdown",
   "metadata": {},
   "source": [
    "### Some user accounts has very low performance - Maybe we should only examine name parts???"
   ]
  },
  {
   "cell_type": "code",
   "execution_count": null,
   "metadata": {
    "collapsed": false
   },
   "outputs": [],
   "source": [
    "key_words = [\"@rafaelnadal\",\"@stanwawrinka\",\"@ostapenkofc\",\"@simonahalep\",\"@andymurray\",\"@djokernole\"]\n",
    "score_filtered = ndcg_df[ndcg_df[\"key_word\"].isin(key_words)]\n",
    "sns.factorplot(data=score_filtered, x=\"date\", y=\"ndcg\", hue=\"key_word\", size=8)"
   ]
  },
  {
   "cell_type": "code",
   "execution_count": null,
   "metadata": {
    "collapsed": true
   },
   "outputs": [],
   "source": []
  }
 ],
 "metadata": {
  "anaconda-cloud": {},
  "kernelspec": {
   "display_name": "Python [conda env:dm-3-env]",
   "language": "python",
   "name": "conda-env-dm-3-env-py"
  },
  "language_info": {
   "codemirror_mode": {
    "name": "ipython",
    "version": 3
   },
   "file_extension": ".py",
   "mimetype": "text/x-python",
   "name": "python",
   "nbconvert_exporter": "python",
   "pygments_lexer": "ipython3",
   "version": "3.5.2"
  }
 },
 "nbformat": 4,
 "nbformat_minor": 2
}