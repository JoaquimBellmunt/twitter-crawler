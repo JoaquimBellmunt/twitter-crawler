{
 "cells": [
  {
   "cell_type": "code",
   "execution_count": null,
   "metadata": {
    "collapsed": false
   },
   "outputs": [],
   "source": [
    "from IPython.core.display import HTML\n",
    "HTML(\"<style>.container { width:100% !important; }</style>\")"
   ]
  },
  {
   "cell_type": "code",
   "execution_count": null,
   "metadata": {
    "collapsed": true
   },
   "outputs": [],
   "source": [
    "import pandas as pd"
   ]
  },
  {
   "cell_type": "code",
   "execution_count": null,
   "metadata": {
    "collapsed": false
   },
   "outputs": [],
   "source": [
    "import sys\n",
    "sys.path.insert(0,\"../../python/\")\n",
    "from rg17 import evaluate_toplist as et\n",
    "from rg17 import visualization as visu"
   ]
  },
  {
   "cell_type": "code",
   "execution_count": null,
   "metadata": {
    "collapsed": false
   },
   "outputs": [],
   "source": [
    "import plotly\n",
    "plotly.tools.set_credentials_file(username='ferencberes', api_key='AD0liH3BP3AX8abpysyq')\n",
    "plotly.offline.init_notebook_mode()"
   ]
  },
  {
   "cell_type": "code",
   "execution_count": null,
   "metadata": {
    "collapsed": true
   },
   "outputs": [],
   "source": [
    "SCORE_COL, SCORE_LIMIT = \"occ_score_2\", 0.5\n",
    "#SCORE_COL, SCORE_LIMIT = \"occ_score\", 1.0"
   ]
  },
  {
   "cell_type": "markdown",
   "metadata": {
    "collapsed": true
   },
   "source": [
    "# Load occurences of selected keywords"
   ]
  },
  {
   "cell_type": "code",
   "execution_count": null,
   "metadata": {
    "collapsed": false
   },
   "outputs": [],
   "source": [
    "pair_occs_df = pd.read_csv(\"/mnt/idms/fberes/network/roland_garros/occs_with_scores.csv\", sep=\"|\")"
   ]
  },
  {
   "cell_type": "code",
   "execution_count": null,
   "metadata": {
    "collapsed": false
   },
   "outputs": [],
   "source": [
    "pair_occs_df.head(3)"
   ]
  },
  {
   "cell_type": "code",
   "execution_count": null,
   "metadata": {
    "collapsed": false
   },
   "outputs": [],
   "source": [
    "pair_occs_df[SCORE_COL].max()"
   ]
  },
  {
   "cell_type": "markdown",
   "metadata": {},
   "source": [
    "# Remove some words"
   ]
  },
  {
   "cell_type": "code",
   "execution_count": null,
   "metadata": {
    "collapsed": true
   },
   "outputs": [],
   "source": [
    "to_be_removed = [\"for\",\"french\",\"open\",\"frenchopen\",\"tennis\",\"rolandgarros\"]"
   ]
  },
  {
   "cell_type": "code",
   "execution_count": null,
   "metadata": {
    "collapsed": false
   },
   "outputs": [],
   "source": [
    "print(len(pair_occs_df))\n",
    "pair_occs_df = pair_occs_df[~pair_occs_df[\"word_2\"].isin(to_be_removed)]\n",
    "print(len(pair_occs_df))"
   ]
  },
  {
   "cell_type": "markdown",
   "metadata": {},
   "source": [
    "# Merge nodes"
   ]
  },
  {
   "cell_type": "markdown",
   "metadata": {},
   "source": [
    "#### Merging: should we merge with SUM or MEAN: sum can be compromised by the number of merged nodes..."
   ]
  },
  {
   "cell_type": "code",
   "execution_count": null,
   "metadata": {
    "collapsed": true
   },
   "outputs": [],
   "source": [
    "node_merges = {\n",
    "    #\"Rafael Nadal\" : [\"rafa\",\"nadal\",\"rafael\",\"@rafaelnadal\"],\n",
    "    \"Rafael Nadal\" : [\"nadal\",\"rafael\",\"@rafaelnadal\"],\n",
    "    \"Stan Wawrinka\" : [\"stan\", \"wawrinka\", \"@stanwawrinka\"]\n",
    "}"
   ]
  },
  {
   "cell_type": "code",
   "execution_count": null,
   "metadata": {
    "collapsed": false
   },
   "outputs": [],
   "source": [
    "merged_pairs_ocss_df = pair_occs_df.copy()[[\"time\",\"word_1\",\"word_2\",SCORE_COL]]\n",
    "for key, vals in node_merges.items():\n",
    "    merged_pairs_ocss_df = merged_pairs_ocss_df.replace(to_replace=vals, value=key)\n",
    "print(len(merged_pairs_ocss_df))\n",
    "# dropping self loops\n",
    "merged_pairs_ocss_df = merged_pairs_ocss_df[merged_pairs_ocss_df[\"word_1\"] != merged_pairs_ocss_df[\"word_2\"]]\n",
    "print(len(merged_pairs_ocss_df))\n",
    "# sum scores of contracted nodes\n",
    "#merged_pairs_ocss_df = merged_pairs_ocss_df.groupby(by=[\"time\",\"word_1\",\"word_2\"])[SCORE_COL].max().reset_index()\n",
    "#merged_pairs_ocss_df = merged_pairs_ocss_df.groupby(by=[\"time\",\"word_1\",\"word_2\"])[SCORE_COL].sum().reset_index() # BEST\n",
    "merged_pairs_ocss_df = merged_pairs_ocss_df.groupby(by=[\"time\",\"word_1\",\"word_2\"])[SCORE_COL].mean().reset_index() # BAD TOPLIST\n",
    "print(len(merged_pairs_ocss_df))\n",
    "merged_pairs_ocss_df.head()"
   ]
  },
  {
   "cell_type": "code",
   "execution_count": null,
   "metadata": {
    "collapsed": false
   },
   "outputs": [],
   "source": [
    "selected_time = [\"2017-06-11T09:00\"]"
   ]
  },
  {
   "cell_type": "code",
   "execution_count": null,
   "metadata": {
    "collapsed": false
   },
   "outputs": [],
   "source": [
    "et.get_toplist(merged_pairs_ocss_df, [\"Rafael Nadal\"], selected_time, score_col=SCORE_COL).head(10)"
   ]
  },
  {
   "cell_type": "code",
   "execution_count": null,
   "metadata": {
    "collapsed": false
   },
   "outputs": [],
   "source": [
    "et.get_toplist(merged_pairs_ocss_df, [\"Stan Wawrinka\"], selected_time, score_col=SCORE_COL).head(10)"
   ]
  },
  {
   "cell_type": "code",
   "execution_count": null,
   "metadata": {
    "collapsed": false
   },
   "outputs": [],
   "source": [
    "et.get_toplist(pair_occs_df, [\"rafael\"], selected_time, score_col=SCORE_COL).head(10)"
   ]
  },
  {
   "cell_type": "code",
   "execution_count": null,
   "metadata": {
    "collapsed": false
   },
   "outputs": [],
   "source": [
    "et.get_toplist(pair_occs_df, [\"stan\"], selected_time, score_col=SCORE_COL).head(10)"
   ]
  },
  {
   "cell_type": "markdown",
   "metadata": {},
   "source": [
    "## \"win\" show the winner more accurately"
   ]
  },
  {
   "cell_type": "code",
   "execution_count": null,
   "metadata": {
    "collapsed": false
   },
   "outputs": [],
   "source": [
    "et.get_toplist(pair_occs_df, [\"win\"], [\"2017-06-09T15:00\"], score_col=SCORE_COL).head(10)"
   ]
  },
  {
   "cell_type": "markdown",
   "metadata": {
    "collapsed": false
   },
   "source": [
    "et.get_toplist(pair_occs_df, [\"@thiemdomi\"], [\"2017-06-09T12:00\"]).head(10)"
   ]
  },
  {
   "cell_type": "markdown",
   "metadata": {},
   "source": [
    "# Multiplie days"
   ]
  },
  {
   "cell_type": "code",
   "execution_count": null,
   "metadata": {
    "collapsed": false
   },
   "outputs": [],
   "source": [
    "multiple_days = [[\"2017-06-%0.2iT%0.2i:00\" % (j,i) for i in [0,3,6,9,12,15,18,21]] for j in [8,9]]"
   ]
  },
  {
   "cell_type": "code",
   "execution_count": null,
   "metadata": {
    "collapsed": false,
    "scrolled": false
   },
   "outputs": [],
   "source": [
    "#show_multiple_snapshots(merged_pairs_ocss_df, [\"Rafael Nadal\",\"Stan Wawrinka\"], multiple_days, score_limit=3.0)\n",
    "#visu.show_multiple_snapshots(pair_occs_df, [\"thiem\"], multiple_days, score_limit=1.1)\n",
    "visu.show_multiple_snapshots(pair_occs_df, [\"@thiemdomi\"], multiple_days, score_col=SCORE_COL, score_limit=SCORE_LIMIT)"
   ]
  },
  {
   "cell_type": "markdown",
   "metadata": {},
   "source": [
    "# Examine final day (2017-06-11)"
   ]
  },
  {
   "cell_type": "code",
   "execution_count": null,
   "metadata": {
    "collapsed": false,
    "scrolled": false
   },
   "outputs": [],
   "source": [
    "visu.show_multiple_snapshots(pair_occs_df, [\"@rafaelnadal\",\"@stanwawrinka\",\"win\",\"won\"], [\"2017-06-11T00:00\",\"2017-06-11T03:00\",\"2017-06-11T06:00\",\"2017-06-11T09:00\",\"2017-06-11T12:00\",\"2017-06-11T15:00\",\"2017-06-11T18:00\"], score_limit=1.0, score_col=SCORE_COL)"
   ]
  },
  {
   "cell_type": "code",
   "execution_count": null,
   "metadata": {
    "collapsed": false,
    "scrolled": false
   },
   "outputs": [],
   "source": [
    "visu.show_multiple_snapshots(pair_occs_df, [\"rafa\",\"nadal\",\"stan\",\"wawrinka\",\"win\",\"won\"], [\"2017-06-11T00:00\",\"2017-06-11T03:00\",\"2017-06-11T06:00\",\"2017-06-11T09:00\",\"2017-06-11T12:00\",\"2017-06-11T15:00\",\"2017-06-11T18:00\"], score_limit=1.0, score_col=SCORE_COL)"
   ]
  },
  {
   "cell_type": "markdown",
   "metadata": {},
   "source": [
    "# 2017-06-09"
   ]
  },
  {
   "cell_type": "code",
   "execution_count": null,
   "metadata": {
    "collapsed": false
   },
   "outputs": [],
   "source": [
    "pair_occs_df[pair_occs_df[\"word_2\"] == \"@andymurray\"].sort_values(\"day\")"
   ]
  },
  {
   "cell_type": "code",
   "execution_count": null,
   "metadata": {
    "collapsed": false,
    "scrolled": false
   },
   "outputs": [],
   "source": [
    "visu.show_multiple_snapshots(pair_occs_df, [\"@rafaelnadal\",\"@stanwawrinka\",\"@thiemdomi\",\"@andymurray\",\"win\"], [\"2017-06-09T00:00\",\"2017-06-09T03:00\",\"2017-06-09T06:00\",\"2017-06-09T09:00\",\"2017-06-09T12:00\",\"2017-06-09T15:00\",\"2017-06-09T18:00\"], score_limit=1.0, score_col=SCORE_COL)"
   ]
  },
  {
   "cell_type": "markdown",
   "metadata": {},
   "source": [
    "# Show winners"
   ]
  },
  {
   "cell_type": "code",
   "execution_count": null,
   "metadata": {
    "collapsed": false,
    "scrolled": false
   },
   "outputs": [],
   "source": [
    "visu.show_multiple_snapshots(pair_occs_df, [\"win\",\"lose\"], [\"2017-06-08T18:00\",\"2017-06-09T18:00\",\"2017-06-10T18:00\",\"2017-06-11T18:00\"], score_limit=1.1, score_col=SCORE_COL)"
   ]
  },
  {
   "cell_type": "code",
   "execution_count": null,
   "metadata": {
    "collapsed": false,
    "scrolled": false
   },
   "outputs": [],
   "source": [
    "visu.show_multiple_snapshots(pair_occs_df, [\"play\",\"match\",\"win\"], [\"2017-06-08T18:00\",\"2017-06-09T18:00\",\"2017-06-10T18:00\",\"2017-06-11T18:00\"], score_limit=1.0, score_col=SCORE_COL)"
   ]
  }
 ],
 "metadata": {
  "anaconda-cloud": {},
  "kernelspec": {
   "display_name": "Python [conda env:dm-3-env]",
   "language": "python",
   "name": "conda-env-dm-3-env-py"
  },
  "language_info": {
   "codemirror_mode": {
    "name": "ipython",
    "version": 3
   },
   "file_extension": ".py",
   "mimetype": "text/x-python",
   "name": "python",
   "nbconvert_exporter": "python",
   "pygments_lexer": "ipython3",
   "version": "3.5.2"
  }
 },
 "nbformat": 4,
 "nbformat_minor": 2
}