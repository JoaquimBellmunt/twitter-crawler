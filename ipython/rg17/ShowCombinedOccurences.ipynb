{
 "cells": [
  {
   "cell_type": "code",
   "execution_count": null,
   "metadata": {
    "collapsed": false
   },
   "outputs": [],
   "source": [
    "from IPython.core.display import HTML\n",
    "HTML(\"<style>.container { width:100% !important; }</style>\")"
   ]
  },
  {
   "cell_type": "code",
   "execution_count": null,
   "metadata": {
    "collapsed": true
   },
   "outputs": [],
   "source": [
    "import pandas as pd\n",
    "import numpy as np\n",
    "import json"
   ]
  },
  {
   "cell_type": "code",
   "execution_count": null,
   "metadata": {
    "collapsed": true
   },
   "outputs": [],
   "source": [
    "%matplotlib inline\n",
    "import matplotlib.pyplot as plt"
   ]
  },
  {
   "cell_type": "code",
   "execution_count": null,
   "metadata": {
    "collapsed": false
   },
   "outputs": [],
   "source": [
    "import plotly\n",
    "import plotly.plotly as py\n",
    "from plotly.graph_objs import *"
   ]
  },
  {
   "cell_type": "code",
   "execution_count": null,
   "metadata": {
    "collapsed": false
   },
   "outputs": [],
   "source": [
    "plotly.tools.set_credentials_file(username='ferencberes', api_key='AD0liH3BP3AX8abpysyq')"
   ]
  },
  {
   "cell_type": "code",
   "execution_count": null,
   "metadata": {
    "collapsed": false
   },
   "outputs": [],
   "source": [
    "plotly.offline.init_notebook_mode()"
   ]
  },
  {
   "cell_type": "markdown",
   "metadata": {},
   "source": [
    "# TODO\n",
    "\n",
    "show graph with bokeh interactive visualization:\n",
    "https://bokeh.pydata.org/en/latest/docs/user_guide/graph.html"
   ]
  },
  {
   "cell_type": "markdown",
   "metadata": {},
   "source": [
    "# What can be expected?\n",
    "\n",
    "   * links between players of the same match\n",
    "   * links between twitter accounts and names (@rafaelnadal - rafa, nadal, vamosrafa etc.) - **Good for account identification**\n",
    "   * links beween players and adjectives (winner, loser, beats etc.)\n",
    "   * link between accounts of the same tennis player if they are really used"
   ]
  },
  {
   "cell_type": "code",
   "execution_count": null,
   "metadata": {
    "collapsed": false
   },
   "outputs": [],
   "source": [
    "with open(\"/mnt/idms/fberes/network/online_ranker/roland_garros_updated_schedule/filtered_true_matches_screen_names.json\") as f:\n",
    "    filtered_screen_names = json.load(f)"
   ]
  },
  {
   "cell_type": "code",
   "execution_count": null,
   "metadata": {
    "collapsed": false
   },
   "outputs": [],
   "source": [
    "player_accounts = [\"@\" + n.lower()  for n in filtered_screen_names]"
   ]
  },
  {
   "cell_type": "code",
   "execution_count": null,
   "metadata": {
    "collapsed": false
   },
   "outputs": [],
   "source": [
    "player_accounts[:10]"
   ]
  },
  {
   "cell_type": "markdown",
   "metadata": {
    "collapsed": false
   },
   "source": [
    "occurences_pd = pd.read_csv(\"/mnt/idms/fberes/network/roland_garros/combined_occ_parsed.csv\",sep=\"|\",header=None)"
   ]
  },
  {
   "cell_type": "code",
   "execution_count": null,
   "metadata": {
    "collapsed": false
   },
   "outputs": [],
   "source": [
    "#occurences_pd = pd.read_csv(\"/mnt/idms/fberes/network/roland_garros/combined_occ_parsed_24_hours.csv\",sep=\"|\",header=None)\n",
    "occurences_pd = pd.read_csv(\"/mnt/idms/fberes/network/roland_garros/combined_occ_parsed_6_hours.csv\",sep=\"|\",header=None)"
   ]
  },
  {
   "cell_type": "code",
   "execution_count": null,
   "metadata": {
    "collapsed": false
   },
   "outputs": [],
   "source": [
    "occurences_pd.head()"
   ]
  },
  {
   "cell_type": "code",
   "execution_count": null,
   "metadata": {
    "collapsed": false
   },
   "outputs": [],
   "source": [
    "word_cols = list(range(4,201,2))\n",
    "count_cols = list(range(5,202,2))\n",
    "word_cols[-1]"
   ]
  },
  {
   "cell_type": "markdown",
   "metadata": {},
   "source": [
    "# TODO: How can be more nodes than rows in the matrix?"
   ]
  },
  {
   "cell_type": "code",
   "execution_count": null,
   "metadata": {
    "collapsed": true
   },
   "outputs": [],
   "source": [
    "import networkx as nx"
   ]
  },
  {
   "cell_type": "markdown",
   "metadata": {},
   "source": [
    "## We should model co-occurences as directed graph! only top x frequently mentioned word should matter for a given word!!!"
   ]
  },
  {
   "cell_type": "code",
   "execution_count": null,
   "metadata": {
    "collapsed": true
   },
   "outputs": [],
   "source": [
    "def occurences_2_graph(occ_df):\n",
    "    G = nx.DiGraph()\n",
    "    notnull_indices = ~occ_df.isnull()\n",
    "    for col_idx in word_cols:\n",
    "        partial_df = occ_df.ix[notnull_indices[col_idx]]\n",
    "        edges_with_data = list(zip(partial_df[2],partial_df[col_idx],partial_df[col_idx+1]))\n",
    "        G.add_weighted_edges_from(edges_with_data,weight='frequency')\n",
    "    return G\n",
    "\n",
    "def filter_by_distance(G, initial_set, max_dist):\n",
    "    intersection_with_nodes = initial_set.intersection(set(G.nodes()))\n",
    "    print(len(intersection_with_nodes))\n",
    "    #print(intersection_with_nodes)\n",
    "    reachable_nodes = intersection_with_nodes\n",
    "    current_nodes = intersection_with_nodes\n",
    "    for i in range(max_dist):\n",
    "        to_be_examined =set([])\n",
    "        for s in current_nodes:\n",
    "            neighbors = nx.neighbors(G, s)\n",
    "            to_be_examined = to_be_examined.union(set(neighbors))\n",
    "            print(len(to_be_examined))\n",
    "        current_nodes = to_be_examined.difference(reachable_nodes)\n",
    "        reachable_nodes = reachable_nodes.union(to_be_examined)\n",
    "    return nx.subgraph(G, reachable_nodes)      \n",
    "\n",
    "def filter_by_degree(G, min_degree):\n",
    "    degs = G.degree()\n",
    "    filtered_nodes = []\n",
    "    for n in G.nodes():\n",
    "        if degs[n] >= min_degree:\n",
    "            filtered_nodes.append(n)\n",
    "    return nx.subgraph(G, filtered_nodes)\n",
    "\n",
    "def filter_graph(G, max_dist_from_players=None, min_degree=None):\n",
    "    if max_dist_from_players != None:\n",
    "        G = filter_by_distance(G, set(player_accounts), max_dist_from_players)             \n",
    "    if min_degree != None:\n",
    "        G = filter_by_degree(G, min_degree)\n",
    "    print(G.number_of_edges(), G.number_of_nodes())\n",
    "    return G\n",
    "\n",
    "def get_snapshot_graph(snapshot_start_index, max_dist_from_players=0, min_degree=None):\n",
    "    spec_day = occurences_pd[occurences_pd[0] == snapshot_start_index]\n",
    "    # NOTE: if the line below is commented out than we would get a huge graph!!!\n",
    "    spec_day_for_players = spec_day[spec_day[2].isin(player_accounts)]\n",
    "    #print(len(occurences_pd), len(spec_day_for_players))\n",
    "    #G = occurences_2_graph(spec_day)#_for_players)\n",
    "    G = occurences_2_graph(spec_day_for_players)\n",
    "    #G_filtered = G\n",
    "    #print(G.number_of_edges(), G.number_of_nodes())\n",
    "    G_filtered = filter_graph(G, max_dist_from_players=max_dist_from_players, min_degree=min_degree)\n",
    "    partial_occurences = spec_day[spec_day[2].isin(G_filtered.nodes())]\n",
    "    return nx.Graph(G_filtered), partial_occurences "
   ]
  },
  {
   "cell_type": "code",
   "execution_count": null,
   "metadata": {
    "collapsed": true
   },
   "outputs": [],
   "source": [
    "#snapshot_id = \"2017-06-09T00:00\"\n",
    "snapshot_id = \"2017-06-11T00:00\""
   ]
  },
  {
   "cell_type": "code",
   "execution_count": null,
   "metadata": {
    "collapsed": false
   },
   "outputs": [],
   "source": [
    "S, occ = get_snapshot_graph(snapshot_id, max_dist_from_players=1)"
   ]
  },
  {
   "cell_type": "code",
   "execution_count": null,
   "metadata": {
    "collapsed": true
   },
   "outputs": [],
   "source": [
    "from collections import Counter"
   ]
  },
  {
   "cell_type": "code",
   "execution_count": null,
   "metadata": {
    "collapsed": false
   },
   "outputs": [],
   "source": [
    "cnt = Counter(S.degree())"
   ]
  },
  {
   "cell_type": "code",
   "execution_count": null,
   "metadata": {
    "collapsed": false
   },
   "outputs": [],
   "source": [
    "cnt.most_common()"
   ]
  },
  {
   "cell_type": "markdown",
   "metadata": {
    "collapsed": false
   },
   "source": [
    "SP = get_snapshot_graph(snapshot_id, max_dist_from_players=2)"
   ]
  },
  {
   "cell_type": "code",
   "execution_count": null,
   "metadata": {
    "collapsed": true
   },
   "outputs": [],
   "source": [
    "def get_top_k_occ(tmp_df,name,k):\n",
    "    tmp_2_df = tmp_df[tmp_df[2] == name]\n",
    "    word_pairs = []\n",
    "    for idx in tmp_2_df.index:\n",
    "        word_pairs += list(zip(list(tmp_2_df.ix[idx][word_cols]),list(tmp_2_df.ix[idx][count_cols])))\n",
    "    tmp_3_df = pd.DataFrame(word_pairs, columns=[\"word\",\"count\"])\n",
    "    tmp_3_df = tmp_3_df[~tmp_3_df.isnull()[\"word\"]]\n",
    "    tmp_3_df = tmp_3_df.sort_values(\"count\", ascending=False).reset_index()\n",
    "    del tmp_3_df[\"index\"]\n",
    "    out = \"\"\n",
    "    for idx, row in tmp_3_df.head(k).iterrows():\n",
    "        out += \"<br> %s: %i\" % (row[\"word\"],row[\"count\"])\n",
    "    return out"
   ]
  },
  {
   "cell_type": "code",
   "execution_count": null,
   "metadata": {
    "collapsed": true
   },
   "outputs": [],
   "source": [
    "def draw_with_plotly(SP, SP_layout, occ_df, top_k=10, snapshot_id=None):\n",
    "    edge_trace = Scatter(\n",
    "    x=[],\n",
    "    y=[],\n",
    "    line=Line(width=0.5,color='#888'),\n",
    "    hoverinfo='none',\n",
    "    mode='lines')\n",
    "\n",
    "    for edge in SP.edges():\n",
    "        x0, y0 = list(SP_layout[edge[0]])\n",
    "        x1, y1 = list(SP_layout[edge[1]])\n",
    "        edge_trace['x'] += [x0, x1, None]\n",
    "        edge_trace['y'] += [y0, y1, None]\n",
    "        \n",
    "    node_trace = Scatter(\n",
    "        x=[],\n",
    "        y=[],\n",
    "        text=[],\n",
    "        mode='markers',\n",
    "        hoverinfo='text',\n",
    "        marker=Marker(\n",
    "            showscale=True,\n",
    "            colorscale='YIGnBu',\n",
    "            reversescale=True,\n",
    "            color=[],\n",
    "            size=10,\n",
    "            colorbar=dict(\n",
    "                thickness=15,\n",
    "                title='log(Node Connections)',\n",
    "                xanchor='left',\n",
    "                titleside='right'\n",
    "            ),\n",
    "            line=dict(width=2)))\n",
    "\n",
    "    for node in SP.nodes():\n",
    "        x, y = list(SP_layout[node])\n",
    "        node_trace['x'].append(x)\n",
    "        node_trace['y'].append(y)\n",
    "\n",
    "    for node_idx, adjacencies in enumerate(SP.adjacency_list()):\n",
    "        node_trace['marker']['color'].append(np.log(len(adjacencies)+1))\n",
    "        node_id = SP.nodes()[node_idx]\n",
    "        node_info = \"%s\" % node_id\n",
    "        node_info += \":%s\" % get_top_k_occ(occ_df,node_id,top_k)\n",
    "        node_trace['text'].append(node_info)\n",
    "    \n",
    "    fig = Figure(data=Data([edge_trace, node_trace]),\n",
    "                 layout=Layout(\n",
    "                    width=1500,\n",
    "                    height=800,\n",
    "                    title='<br>RG17 combined occurences: %s' % snapshot_id if snapshot_id != None else \"\",\n",
    "                    titlefont=dict(size=16),\n",
    "                    showlegend=False,\n",
    "                    hovermode='closest',\n",
    "                    margin=dict(b=20,l=5,r=5,t=40),\n",
    "                    xaxis=XAxis(showgrid=False, zeroline=False, showticklabels=False),\n",
    "                    yaxis=YAxis(showgrid=False, zeroline=False, showticklabels=False)))\n",
    "    if snapshot_id != None:\n",
    "        plotly.offline.iplot(fig, filename='combined_occurences_%s' % snapshot_id)\n",
    "    else:\n",
    "        plotly.offline.iplot(fig, filename='combined_occurences')"
   ]
  },
  {
   "cell_type": "code",
   "execution_count": null,
   "metadata": {
    "collapsed": false
   },
   "outputs": [],
   "source": [
    "def get_node_color(word):\n",
    "    if word in player_accounts:\n",
    "        color = \"y\"\n",
    "    elif \"@\" in word:\n",
    "        color = \"m\"\n",
    "    else:\n",
    "        color = \"r\"\n",
    "    return color\n",
    "\n",
    "def get_edge_color(edge):\n",
    "    src, trg = edge\n",
    "    if \"@\" in src and \"@\" in trg:\n",
    "        color = \"b\"\n",
    "    else:\n",
    "        color = \"k\"\n",
    "    return color\n",
    "\n",
    "def show_player_graph(snapshot_id, max_dist=1, min_deg=None):\n",
    "    SP, occ_df = get_snapshot_graph(snapshot_id, max_dist_from_players=max_dist, min_degree=min_deg)\n",
    "    spring_layout = nx.spring_layout(SP,iterations=200)\n",
    "    #freq_indegree = SP.degree(weight=\"frequency\")\n",
    "    #node_map = dict([(n,get_node_color(n)) for n in SP.nodes()])\n",
    "    #node_ids = list(node_map.keys())\n",
    "    #node_colors = list(node_map.values())\n",
    "    #node_sizes = [100*(np.log(freq_indegree[n]+1)**2+1) for n in node_ids]\n",
    "    #edge_sizes = np.log([e[2] for e in SP.edges(data=\"frequency\")])+1\n",
    "    #edge_colors = [get_edge_color(e) for e in SP.edges()]\n",
    "    #plt.figure(figsize=(30,20))\n",
    "    draw_with_plotly(SP, spring_layout, occ_df=occ_df, top_k=10, snapshot_id=snapshot_id)\n",
    "    #nx.draw_networkx(SP, spring_layout, nodelist=node_ids, node_size=node_sizes, node_color=node_colors, width=edge_sizes, edge_color=edge_colors, weight='frequency')\n",
    "    #plt.show()"
   ]
  },
  {
   "cell_type": "markdown",
   "metadata": {},
   "source": [
    "# June 28 - starting day of the tournaments"
   ]
  },
  {
   "cell_type": "markdown",
   "metadata": {
    "collapsed": false
   },
   "source": [
    "show_player_graph(\"2017-05-28T00:00\")#, remove_1_degree_nodes=True)"
   ]
  },
  {
   "cell_type": "markdown",
   "metadata": {},
   "source": [
    "# June 05 - many players are still in the contest"
   ]
  },
  {
   "cell_type": "markdown",
   "metadata": {
    "collapsed": false
   },
   "source": [
    "show_player_graph(\"2017-06-05T00:00\", remove_1_degree_nodes=True)"
   ]
  },
  {
   "cell_type": "markdown",
   "metadata": {},
   "source": [
    "# June 07 - many Quarterfinals"
   ]
  },
  {
   "cell_type": "markdown",
   "metadata": {
    "collapsed": false
   },
   "source": [
    "show_player_graph(\"2017-06-07T00:00\", remove_1_degree_nodes=True)"
   ]
  },
  {
   "cell_type": "markdown",
   "metadata": {},
   "source": [
    "# June 09 : many semifinals on this day"
   ]
  },
  {
   "cell_type": "markdown",
   "metadata": {
    "collapsed": false
   },
   "source": [
    "show_player_graph(\"2017-06-09T00:00\", remove_1_degree_nodes=True)"
   ]
  },
  {
   "cell_type": "markdown",
   "metadata": {},
   "source": [
    "# June 11 : man final + double finals on this day"
   ]
  },
  {
   "cell_type": "code",
   "execution_count": null,
   "metadata": {
    "collapsed": false
   },
   "outputs": [],
   "source": [
    "tmp_df = show_player_graph(\"2017-06-11T00:00\")"
   ]
  },
  {
   "cell_type": "code",
   "execution_count": null,
   "metadata": {
    "collapsed": false
   },
   "outputs": [],
   "source": [
    "tmp_df = show_player_graph(\"2017-06-11T06:00\")"
   ]
  },
  {
   "cell_type": "code",
   "execution_count": null,
   "metadata": {
    "collapsed": false
   },
   "outputs": [],
   "source": [
    "tmp_df = show_player_graph(\"2017-06-11T12:00\")"
   ]
  },
  {
   "cell_type": "code",
   "execution_count": null,
   "metadata": {
    "collapsed": false
   },
   "outputs": [],
   "source": [
    "tmp_df = show_player_graph(\"2017-06-11T18:00\")"
   ]
  }
 ],
 "metadata": {
  "anaconda-cloud": {},
  "kernelspec": {
   "display_name": "Python [conda env:dm-3-env]",
   "language": "python",
   "name": "conda-env-dm-3-env-py"
  },
  "language_info": {
   "codemirror_mode": {
    "name": "ipython",
    "version": 3
   },
   "file_extension": ".py",
   "mimetype": "text/x-python",
   "name": "python",
   "nbconvert_exporter": "python",
   "pygments_lexer": "ipython3",
   "version": "3.5.2"
  }
 },
 "nbformat": 4,
 "nbformat_minor": 2
}