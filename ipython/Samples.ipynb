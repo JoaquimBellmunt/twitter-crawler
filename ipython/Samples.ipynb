{
 "cells": [
  {
   "cell_type": "code",
   "execution_count": null,
   "metadata": {
    "collapsed": true
   },
   "outputs": [],
   "source": [
    "import sys"
   ]
  },
  {
   "cell_type": "code",
   "execution_count": null,
   "metadata": {
    "collapsed": false
   },
   "outputs": [],
   "source": [
    "sys.path.insert(0,\"../python/\")\n",
    "from utils import tweet_time_2_epoch\n",
    "from twitter_crawler import TwitterCrawler\n",
    "from request_scheduler import RequestScheduler"
   ]
  },
  {
   "cell_type": "markdown",
   "metadata": {},
   "source": [
    "# Get events from Twitter"
   ]
  },
  {
   "cell_type": "markdown",
   "metadata": {},
   "source": [
    "### Initialize and authenticate TwitterCrawler"
   ]
  },
  {
   "cell_type": "code",
   "execution_count": null,
   "metadata": {
    "collapsed": false
   },
   "outputs": [],
   "source": [
    "tcs = TwitterCrawler(15*60,400)\n",
    "tcs.connect(\"raw\")\n",
    "#tcs.verbose = True"
   ]
  },
  {
   "cell_type": "code",
   "execution_count": null,
   "metadata": {
    "collapsed": false
   },
   "outputs": [],
   "source": [
    "tcs.authenticate(\"../api_key.json\")"
   ]
  },
  {
   "cell_type": "markdown",
   "metadata": {},
   "source": [
    "### Set search parameters"
   ]
  },
  {
   "cell_type": "code",
   "execution_count": null,
   "metadata": {
    "collapsed": false
   },
   "outputs": [],
   "source": [
    "query = \" OR \".join([\"#FrenchOpen\",\"#frenchopen\",\"#RG17\",\"#rg17\",\"#RolandGarros2017\",\"#rolandgarros2017\",\"#RolandGarros\",\"#rolandgarros\",\"@rolandgarros\"])"
   ]
  },
  {
   "cell_type": "code",
   "execution_count": null,
   "metadata": {
    "collapsed": false
   },
   "outputs": [],
   "source": [
    "search_params = {\n",
    "    \"q\":query,\n",
    "    \"result_type\":'recent',\n",
    "    \"count\":100\n",
    "}"
   ]
  },
  {
   "cell_type": "code",
   "execution_count": null,
   "metadata": {
    "collapsed": false
   },
   "outputs": [],
   "source": [
    "tcs.set_search_arguments(search_args=search_params)"
   ]
  },
  {
   "cell_type": "markdown",
   "metadata": {
    "collapsed": false
   },
   "source": [
    "def id_bound_fiter(tweet):\n",
    "    #since_id = 870200079591907328\n",
    "    #since_id = 870255292226957313\n",
    "    since_id=870285658723684355\n",
    "    if int(tweet[\"id\"]) > since_id:\n",
    "        return False\n",
    "    else:\n",
    "        return True"
   ]
  },
  {
   "cell_type": "code",
   "execution_count": null,
   "metadata": {
    "collapsed": true
   },
   "outputs": [],
   "source": [
    "def time_bound_filter(tweet):\n",
    "    t_lower_bound = tweet_time_2_epoch(\"Thu Jun 01 00:00:00 +0000 2017\")\n",
    "    t_tweet = tweet_time_2_epoch(tweet[\"created_at\"])\n",
    "    if t_tweet >= t_lower_bound:\n",
    "        return False\n",
    "    else:\n",
    "        return True"
   ]
  },
  {
   "cell_type": "markdown",
   "metadata": {},
   "source": [
    "res = tcs.search_by_query(wait_for=2, term_func=id_bound_fiter)"
   ]
  },
  {
   "cell_type": "markdown",
   "metadata": {
    "collapsed": false
   },
   "source": [
    "res = tcs.search_by_query(wait_for=2, custom_since_id=870178055112863744)"
   ]
  },
  {
   "cell_type": "markdown",
   "metadata": {
    "collapsed": false
   },
   "source": [
    "tcs.stream_search(60, termination_func=id_bound_fiter,feedback_time=60)"
   ]
  },
  {
   "cell_type": "code",
   "execution_count": null,
   "metadata": {
    "collapsed": false
   },
   "outputs": [],
   "source": [
    "tcs.stream_search(60, termination_func=time_bound_filter,feedback_time=10*60)"
   ]
  },
  {
   "cell_type": "code",
   "execution_count": null,
   "metadata": {
    "collapsed": false
   },
   "outputs": [],
   "source": [
    "tcs.close()"
   ]
  }
 ],
 "metadata": {
  "anaconda-cloud": {},
  "kernelspec": {
   "display_name": "Python [conda env:dm-3-env]",
   "language": "python",
   "name": "conda-env-dm-3-env-py"
  },
  "language_info": {
   "codemirror_mode": {
    "name": "ipython",
    "version": 3
   },
   "file_extension": ".py",
   "mimetype": "text/x-python",
   "name": "python",
   "nbconvert_exporter": "python",
   "pygments_lexer": "ipython3",
   "version": "3.5.2"
  }
 },
 "nbformat": 4,
 "nbformat_minor": 1
}
