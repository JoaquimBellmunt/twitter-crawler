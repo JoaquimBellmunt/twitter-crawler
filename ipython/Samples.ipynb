{
 "cells": [
  {
   "cell_type": "code",
   "execution_count": null,
   "metadata": {
    "collapsed": true
   },
   "outputs": [],
   "source": [
    "import sys"
   ]
  },
  {
   "cell_type": "code",
   "execution_count": null,
   "metadata": {
    "collapsed": false
   },
   "outputs": [],
   "source": [
    "sys.path.insert(0,\"../python/\")\n",
    "from twitter_crawler import TwitterCrawler"
   ]
  },
  {
   "cell_type": "markdown",
   "metadata": {},
   "source": [
    "# Get events from Twitter\n",
    "\n",
    "   * you can schedule the 15 min API limit time frame\n",
    "   * the elapsed time between request is a normal distribution which can be parametrized"
   ]
  },
  {
   "cell_type": "code",
   "execution_count": null,
   "metadata": {
    "collapsed": false
   },
   "outputs": [],
   "source": [
    "tcs = TwitterCrawler(15*60,45)\n",
    "tcs.authenticate(\"../api_key.json\")\n",
    "tcs.run(delta_t=20,dev_ratio=0.25)"
   ]
  },
  {
   "cell_type": "markdown",
   "metadata": {},
   "source": [
    "# Show collected results"
   ]
  },
  {
   "cell_type": "code",
   "execution_count": null,
   "metadata": {
    "collapsed": false
   },
   "outputs": [],
   "source": [
    "results = tcs.get()\n",
    "for time_stamp in results:\n",
    "    res = results[time_stamp]\n",
    "    print()\n",
    "    print(len(res['statuses']))\n",
    "    print()\n",
    "    for tweet in res['statuses']:\n",
    "        print('Tweet from @%s Date: %s' % (tweet['user']['screen_name'].encode('utf-8'),tweet['created_at']))\n",
    "        print(tweet['text'].encode('utf-8'), '\\n')"
   ]
  }
 ],
 "metadata": {
  "anaconda-cloud": {},
  "kernelspec": {
   "display_name": "Python [conda env:dm-3-env]",
   "language": "python",
   "name": "conda-env-dm-3-env-py"
  },
  "language_info": {
   "codemirror_mode": {
    "name": "ipython",
    "version": 3
   },
   "file_extension": ".py",
   "mimetype": "text/x-python",
   "name": "python",
   "nbconvert_exporter": "python",
   "pygments_lexer": "ipython3",
   "version": "3.5.2"
  }
 },
 "nbformat": 4,
 "nbformat_minor": 1
}
