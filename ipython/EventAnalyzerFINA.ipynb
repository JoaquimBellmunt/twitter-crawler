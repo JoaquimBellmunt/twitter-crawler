{
 "cells": [
  {
   "cell_type": "code",
   "execution_count": null,
   "metadata": {
    "collapsed": true
   },
   "outputs": [],
   "source": [
    "import sys, time"
   ]
  },
  {
   "cell_type": "code",
   "execution_count": null,
   "metadata": {
    "collapsed": true
   },
   "outputs": [],
   "source": [
    "sys.path.insert(0, \"../python/\")\n",
    "import analyzer_utils as au"
   ]
  },
  {
   "cell_type": "code",
   "execution_count": null,
   "metadata": {
    "collapsed": true
   },
   "outputs": [],
   "source": [
    "import networkx as nx\n",
    "import pandas as pd\n",
    "import numpy as np"
   ]
  },
  {
   "cell_type": "code",
   "execution_count": null,
   "metadata": {
    "collapsed": true
   },
   "outputs": [],
   "source": [
    "from datetime import datetime"
   ]
  },
  {
   "cell_type": "code",
   "execution_count": null,
   "metadata": {
    "collapsed": true
   },
   "outputs": [],
   "source": [
    "%matplotlib inline\n",
    "from matplotlib import pyplot as plt"
   ]
  },
  {
   "cell_type": "code",
   "execution_count": null,
   "metadata": {
    "collapsed": false
   },
   "outputs": [],
   "source": [
    "from bokeh.io import output_notebook\n",
    "output_notebook()"
   ]
  },
  {
   "cell_type": "markdown",
   "metadata": {},
   "source": [
    "# 1. Get collections"
   ]
  },
  {
   "cell_type": "code",
   "execution_count": null,
   "metadata": {
    "collapsed": false
   },
   "outputs": [],
   "source": [
    "fina_eng_coll, db = au.get_coll(\"fina_bp_eng\")\n",
    "fina_hun_coll, _ = au.get_coll(\"fina_bp_hun\")\n",
    "bp_coll, _ = au.get_coll(\"budapest\")"
   ]
  },
  {
   "cell_type": "code",
   "execution_count": null,
   "metadata": {
    "collapsed": true
   },
   "outputs": [],
   "source": [
    "colls = {\n",
    "    \"fina_bp_eng\":fina_eng_coll, \n",
    "    \"fina_bp_hun\":fina_hun_coll, \n",
    "    \"budapest\":bp_coll\n",
    "}"
   ]
  },
  {
   "cell_type": "markdown",
   "metadata": {},
   "source": [
    "#### Number of documents in the collections"
   ]
  },
  {
   "cell_type": "code",
   "execution_count": null,
   "metadata": {
    "collapsed": false
   },
   "outputs": [],
   "source": [
    "for col in colls:\n",
    "    size = db.command(\"collstats\", col)[\"count\"]\n",
    "    print(\"Number of docs in %s: %i\" % (col, size))"
   ]
  },
  {
   "cell_type": "markdown",
   "metadata": {},
   "source": [
    "## Sample event"
   ]
  },
  {
   "cell_type": "code",
   "execution_count": null,
   "metadata": {
    "collapsed": true
   },
   "outputs": [],
   "source": [
    "doc = fina_eng_coll.find_one()"
   ]
  },
  {
   "cell_type": "code",
   "execution_count": null,
   "metadata": {
    "collapsed": false,
    "scrolled": true
   },
   "outputs": [],
   "source": [
    "doc"
   ]
  },
  {
   "cell_type": "code",
   "execution_count": null,
   "metadata": {
    "collapsed": false
   },
   "outputs": [],
   "source": [
    "doc.keys()"
   ]
  },
  {
   "cell_type": "markdown",
   "metadata": {},
   "source": [
    "## Upper and lower bound of the available datasets"
   ]
  },
  {
   "cell_type": "code",
   "execution_count": null,
   "metadata": {
    "collapsed": false
   },
   "outputs": [],
   "source": [
    "for col in colls:\n",
    "    print()\n",
    "    print(\"### %s ###\" % col)\n",
    "    print()\n",
    "    print(\"Oldest events:\")\n",
    "    au.find_some_docs(colls[col], sort_params=[(\"id\", 1)], limit=3)\n",
    "    print()\n",
    "    print(\"Latest events:\")\n",
    "    au.find_some_docs(colls[col], limit=3)"
   ]
  },
  {
   "cell_type": "markdown",
   "metadata": {
    "collapsed": true
   },
   "source": [
    "# 2. Analyze events"
   ]
  },
  {
   "cell_type": "code",
   "execution_count": null,
   "metadata": {
    "collapsed": true
   },
   "outputs": [],
   "source": [
    "del colls[\"fina_bp_hun\"]"
   ]
  },
  {
   "cell_type": "markdown",
   "metadata": {},
   "source": [
    "## a.) Tweet, retweet, mention counts"
   ]
  },
  {
   "cell_type": "code",
   "execution_count": null,
   "metadata": {
    "collapsed": true
   },
   "outputs": [],
   "source": [
    "mention_infos = {}"
   ]
  },
  {
   "cell_type": "code",
   "execution_count": null,
   "metadata": {
    "collapsed": false
   },
   "outputs": [],
   "source": [
    "for coll_name in colls:\n",
    "    mentions, user_names, user_screen_names, num_tweets, num_retweets = au.get_mentions(colls[coll_name])\n",
    "    mentions_df = pd.DataFrame(mentions, columns=[\"epoch\", \"src\", \"trg\", \"lang\", \"text\"])\n",
    "    mentions_df[\"src_str\"] =  mentions_df[\"src\"].apply(lambda x: user_names[x])\n",
    "    mentions_df[\"trg_str\"] =  mentions_df[\"trg\"].apply(lambda x: user_names[x])\n",
    "    cols_to_export = [\"epoch\", \"src\", \"trg\", \"src_str\", \"trg_str\"]\n",
    "    mentions_df.to_csv(\"/mnt/idms/fberes/network/fina_bp/data/%s_mentions_with_names.csv\" % coll_name, columns=cols_to_export, sep=\"|\", index=False)\n",
    "    mention_infos[coll_name] = [mentions_df, user_names, user_screen_names, num_tweets, num_retweets]\n",
    "    print(coll_name)"
   ]
  },
  {
   "cell_type": "code",
   "execution_count": null,
   "metadata": {
    "collapsed": false
   },
   "outputs": [],
   "source": [
    "for coll_name in colls:\n",
    "    coll_info = mention_infos[coll_name]\n",
    "    print(\"%s: #tweets: %i, #retweets: %i, #mentions: %i\" % (coll_name, coll_info[3], coll_info[4], len(coll_info[0])))"
   ]
  },
  {
   "cell_type": "markdown",
   "metadata": {},
   "source": [
    "## b.) reload collections"
   ]
  },
  {
   "cell_type": "code",
   "execution_count": null,
   "metadata": {
    "collapsed": true
   },
   "outputs": [],
   "source": [
    "for coll_name in colls:\n",
    "    mentions_df = pd.read_csv(\"/mnt/idms/fberes/network/fina_bp/data/%s_mentions_with_names.csv\" % coll_name, sep=\"|\")\n",
    "    src_map = dict(zip(mentions_df[\"src\"], mentions_df[\"src_str\"]))\n",
    "    trg_map = dict(zip(mentions_df[\"trg\"], mentions_df[\"trg_str\"]))\n",
    "    src_map.update(trg_map)\n",
    "    user_names = src_map\n",
    "    mention_infos[coll_name] = mentions_df, user_names"
   ]
  },
  {
   "cell_type": "code",
   "execution_count": null,
   "metadata": {
    "collapsed": false
   },
   "outputs": [],
   "source": [
    "len(mention_infos[\"fina_bp_eng\"][0])"
   ]
  },
  {
   "cell_type": "markdown",
   "metadata": {},
   "source": [
    "## c.) Popular nodes"
   ]
  },
  {
   "cell_type": "markdown",
   "metadata": {},
   "source": [
    "### i.) popular sources"
   ]
  },
  {
   "cell_type": "code",
   "execution_count": null,
   "metadata": {
    "collapsed": false
   },
   "outputs": [],
   "source": [
    "for coll_name in colls:\n",
    "    coll_info = mention_infos[coll_name]\n",
    "    print(\"### %s ###\" % coll_name)\n",
    "    print(au.show_frequent_items(coll_info[0], coll_info[1], \"src\", k=10))\n",
    "    print()"
   ]
  },
  {
   "cell_type": "markdown",
   "metadata": {},
   "source": [
    "### i.) popular targets"
   ]
  },
  {
   "cell_type": "code",
   "execution_count": null,
   "metadata": {
    "collapsed": false
   },
   "outputs": [],
   "source": [
    "for coll_name in colls:\n",
    "    coll_info = mention_infos[coll_name]\n",
    "    print(\"### %s ###\" % coll_name)\n",
    "    print(au.show_frequent_items(coll_info[0], coll_info[1], \"trg\", k=10))\n",
    "    print()"
   ]
  },
  {
   "cell_type": "markdown",
   "metadata": {},
   "source": [
    "## d.) Event distribution in time"
   ]
  },
  {
   "cell_type": "code",
   "execution_count": null,
   "metadata": {
    "collapsed": true
   },
   "outputs": [],
   "source": [
    "for coll_name in colls:\n",
    "    coll_info = mention_infos[coll_name]\n",
    "    coll_info[0][\"date\"] = coll_info[0][\"epoch\"].apply(lambda x: time.strftime('%Y-%m-%d', time.localtime(x)))\n",
    "    coll_info[0][\"date_hour\"] = coll_info[0][\"epoch\"].apply(lambda x: time.strftime('%Y-%m-%d %H', time.localtime(x)))\n",
    "    coll_info[0][\"time\"] = coll_info[0][\"epoch\"].apply(lambda x: time.strftime('%H:%M:%S', time.localtime(x)))"
   ]
  },
  {
   "cell_type": "code",
   "execution_count": null,
   "metadata": {
    "collapsed": true
   },
   "outputs": [],
   "source": [
    "def plot_dense_timeline(coll_name):\n",
    "    plt.figure(figsize=(15, 2))\n",
    "    plt.title(\"%s: Number of mentions in time\" % coll_name)\n",
    "    mention_infos[coll_name][0][\"epoch\"].hist(bins=500)\n",
    "    locs, labels = plt.xticks()\n",
    "    labels = list(map(lambda x: time.strftime('%Y-%m-%d %H:%M', time.localtime(x)), locs))\n",
    "    plt.xticks(locs, labels, rotation=\"vertical\")\n",
    "    plt.show()\n",
    "    \n",
    "def plot_daily_timeline(coll_name):\n",
    "    num_of_mentions_by_day = mention_infos[coll_name][0][\"date\"].value_counts().sort_index()\n",
    "    plt.figure(figsize=(15, 2))\n",
    "    plt.title(\"%s: Number of mentions per day\" % coll_name)\n",
    "    plt.plot(num_of_mentions_by_day.values)\n",
    "    plt.xticks(range(len(num_of_mentions_by_day)), num_of_mentions_by_day.index, rotation='vertical')\n",
    "    plt.show()"
   ]
  },
  {
   "cell_type": "markdown",
   "metadata": {},
   "source": [
    "### budapest"
   ]
  },
  {
   "cell_type": "code",
   "execution_count": null,
   "metadata": {
    "collapsed": false
   },
   "outputs": [],
   "source": [
    "plot_dense_timeline(\"budapest\")"
   ]
  },
  {
   "cell_type": "code",
   "execution_count": null,
   "metadata": {
    "collapsed": false
   },
   "outputs": [],
   "source": [
    "plot_daily_timeline(\"budapest\")"
   ]
  },
  {
   "cell_type": "markdown",
   "metadata": {},
   "source": [
    "### fina_bp_eng"
   ]
  },
  {
   "cell_type": "code",
   "execution_count": null,
   "metadata": {
    "collapsed": false
   },
   "outputs": [],
   "source": [
    "plot_dense_timeline(\"fina_bp_eng\")"
   ]
  },
  {
   "cell_type": "code",
   "execution_count": null,
   "metadata": {
    "collapsed": false
   },
   "outputs": [],
   "source": [
    "plot_daily_timeline(\"fina_bp_eng\")"
   ]
  },
  {
   "cell_type": "markdown",
   "metadata": {},
   "source": [
    "### Drops in timeline were suspicious (e.g. at 2017-07-17), checking distribution of tweets"
   ]
  },
  {
   "cell_type": "code",
   "execution_count": null,
   "metadata": {
    "collapsed": false
   },
   "outputs": [],
   "source": [
    "tweet_infos = {}\n",
    "for coll_name in colls:\n",
    "    print(coll_name)\n",
    "    tweets = au.get_tweets(colls[coll_name])\n",
    "    tweets_df = pd.DataFrame(tweets, columns=[\"epoch\", \"src_id\", \"src_name\", \"lang\", \"msg\"])\n",
    "    tweets_df[\"date\"] = tweets_df[\"epoch\"].apply(lambda x: time.strftime('%Y-%m-%d', time.localtime(x)))\n",
    "    tweets_df[\"date_hour\"] = tweets_df[\"epoch\"].apply(lambda x: time.strftime('%Y-%m-%d %H', time.localtime(x)))\n",
    "    tweets_df[\"time\"] = tweets_df[\"epoch\"].apply(lambda x: time.strftime('%H:%M:%S', time.localtime(x)))\n",
    "    tweets_df[\"time_sec\"] = tweets_df[\"time\"].apply(lambda s: 3600*int(s[:2]) + 60*int(s[3:5]) + int(s[-2:]))\n",
    "    tweet_infos[coll_name] = tweets_df"
   ]
  },
  {
   "cell_type": "code",
   "execution_count": null,
   "metadata": {
    "collapsed": false
   },
   "outputs": [],
   "source": [
    "plt.subplots(5, 2, figsize=(30, 25))\n",
    "    \n",
    "i = 1\n",
    "for coll_name in colls:\n",
    "    temp_df = tweet_infos[coll_name].query(\"date <= '2017-07-18'\").query(\"date >= '2017-07-14'\")\n",
    "    j = 1\n",
    "    for d, df in temp_df.groupby(\"date\"):\n",
    "        plt.subplot(5, 2, j*2 - (i%2) )\n",
    "        \n",
    "        df[\"time_sec\"].hist(bins=250)\n",
    "        plt.xlim(xmin=0, xmax=86400)\n",
    "        plt.title(\"%s %s\" % (coll_name, d))\n",
    "        locs, labels = plt.xticks()\n",
    "        labels = list(map(lambda sec: \"%02i:%02i:%02i\" % (sec / 3600, (sec%3600)/60, (sec%3600)%60), locs))\n",
    "        plt.xticks(locs, labels)\n",
    "        j += 1\n",
    "    i += 1"
   ]
  },
  {
   "cell_type": "code",
   "execution_count": null,
   "metadata": {
    "collapsed": false
   },
   "outputs": [],
   "source": [
    "for coll_name in colls:\n",
    "    num_of_tweets_by_day = tweet_infos[coll_name]\n",
    "    num_of_tweets_by_day = num_of_tweets_by_day.query(\"date >= '2017-07-14' & date <= '2017-07-18'\")\n",
    "    num_of_tweets_by_day = num_of_tweets_by_day[\"date\"].value_counts().sort_index()\n",
    "    plt.figure(figsize=(15, 2))\n",
    "    plt.title(\"%s: Number of tweets per day\" % coll_name)\n",
    "    plt.plot(num_of_tweets_by_day.values)\n",
    "    plt.xticks(range(len(num_of_tweets_by_day)), num_of_tweets_by_day.index, rotation='vertical')\n",
    "    plt.show()"
   ]
  },
  {
   "cell_type": "markdown",
   "metadata": {},
   "source": [
    "## e.) Changes in popular items"
   ]
  },
  {
   "cell_type": "code",
   "execution_count": null,
   "metadata": {
    "collapsed": false
   },
   "outputs": [],
   "source": [
    "day_list = []\n",
    "#day_list += ['2017-06-%i' % i for i in range(25, 30)]\n",
    "day_list += ['2017-07-%.2i' % i for i in range(1, 16)]\n",
    "day_list"
   ]
  },
  {
   "cell_type": "code",
   "execution_count": null,
   "metadata": {
    "collapsed": false
   },
   "outputs": [],
   "source": [
    "coll_name = \"budapest\"\n",
    "mentions_df = mention_infos[coll_name][0]\n",
    "user_names = mention_infos[coll_name][1]\n",
    "\n",
    "k = 20\n",
    "popular_trgs = []\n",
    "for i in range(len(day_list)):\n",
    "    daily_df = mentions_df[mentions_df[\"date\"]==day_list[i]]\n",
    "    freq_trg = au.show_frequent_items(daily_df, user_names, \"trg\", k=k)\n",
    "    popular_trgs += list(zip(np.ones(k)*i, freq_trg[\"name\"], freq_trg[\"count\"], freq_trg[\"count\"]/len(daily_df)))\n",
    "    popular_trg_df = pd.DataFrame(popular_trgs, columns=[\"day_idx\", \"name\", \"count\", \"dominance\"])"
   ]
  },
  {
   "cell_type": "code",
   "execution_count": null,
   "metadata": {
    "collapsed": true
   },
   "outputs": [],
   "source": [
    "very_pop_df = au.filter_for_support(popular_trg_df, min_times=4)"
   ]
  },
  {
   "cell_type": "code",
   "execution_count": null,
   "metadata": {
    "collapsed": false
   },
   "outputs": [],
   "source": [
    "au.plot_user_popularity(very_pop_df, day_list)"
   ]
  },
  {
   "cell_type": "code",
   "execution_count": null,
   "metadata": {
    "collapsed": false
   },
   "outputs": [],
   "source": [
    "au.plot_user_dominance(very_pop_df)"
   ]
  },
  {
   "cell_type": "code",
   "execution_count": null,
   "metadata": {
    "collapsed": false
   },
   "outputs": [],
   "source": [
    "0"
   ]
  }
 ],
 "metadata": {
  "anaconda-cloud": {},
  "kernelspec": {
   "display_name": "Python [conda env:py3]",
   "language": "python",
   "name": "conda-env-py3-py"
  },
  "language_info": {
   "codemirror_mode": {
    "name": "ipython",
    "version": 3
   },
   "file_extension": ".py",
   "mimetype": "text/x-python",
   "name": "python",
   "nbconvert_exporter": "python",
   "pygments_lexer": "ipython3",
   "version": "3.6.0"
  }
 },
 "nbformat": 4,
 "nbformat_minor": 1
}
