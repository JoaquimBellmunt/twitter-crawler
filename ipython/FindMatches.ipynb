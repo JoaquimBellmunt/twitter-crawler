{
 "cells": [
  {
   "cell_type": "code",
   "execution_count": null,
   "metadata": {
    "collapsed": true
   },
   "outputs": [],
   "source": [
    "import pandas as pd\n",
    "import numpy as np"
   ]
  },
  {
   "cell_type": "code",
   "execution_count": null,
   "metadata": {
    "collapsed": true
   },
   "outputs": [],
   "source": [
    "import editdistance"
   ]
  },
  {
   "cell_type": "code",
   "execution_count": null,
   "metadata": {
    "collapsed": false
   },
   "outputs": [],
   "source": [
    "from collections import Counter"
   ]
  },
  {
   "cell_type": "code",
   "execution_count": null,
   "metadata": {
    "collapsed": true
   },
   "outputs": [],
   "source": [
    "%matplotlib inline\n",
    "import seaborn as sns\n",
    "import matplotlib.pyplot as plt"
   ]
  },
  {
   "cell_type": "markdown",
   "metadata": {},
   "source": [
    "# 1. Load data"
   ]
  },
  {
   "cell_type": "markdown",
   "metadata": {},
   "source": [
    "## a.) Load mention events"
   ]
  },
  {
   "cell_type": "code",
   "execution_count": null,
   "metadata": {
    "collapsed": false
   },
   "outputs": [],
   "source": [
    "mentions_df = pd.read_csv(\"/mnt/idms/fberes/network/roland_garros/data/rg17_mentions_with_names_and_text.csv\",sep=\"|\")"
   ]
  },
  {
   "cell_type": "code",
   "execution_count": null,
   "metadata": {
    "collapsed": false
   },
   "outputs": [],
   "source": [
    "mentions_df.head()"
   ]
  },
  {
   "cell_type": "markdown",
   "metadata": {},
   "source": [
    "## b.) Load schedule events"
   ]
  },
  {
   "cell_type": "code",
   "execution_count": null,
   "metadata": {
    "collapsed": true
   },
   "outputs": [],
   "source": [
    "schedule_df = pd.read_csv(\"/mnt/idms/fberes/network/roland_garros/data/schedule_df.csv\",sep=\"|\")"
   ]
  },
  {
   "cell_type": "code",
   "execution_count": null,
   "metadata": {
    "collapsed": false
   },
   "outputs": [],
   "source": [
    "schedule_df.head()"
   ]
  },
  {
   "cell_type": "markdown",
   "metadata": {},
   "source": [
    "# 2. Find tennis player matches"
   ]
  },
  {
   "cell_type": "markdown",
   "metadata": {},
   "source": [
    "## a.) Collect players from mention and schedule events"
   ]
  },
  {
   "cell_type": "code",
   "execution_count": null,
   "metadata": {
    "collapsed": true
   },
   "outputs": [],
   "source": [
    "c_men = mentions_df[\"trg_str\"].value_counts()\n",
    "c_men_names = c_men.index"
   ]
  },
  {
   "cell_type": "code",
   "execution_count": null,
   "metadata": {
    "collapsed": false
   },
   "outputs": [],
   "source": [
    "active_list = list(schedule_df[\"playerName active\"])\n",
    "opponent_list = list(schedule_df[\"playerName opponent\"])"
   ]
  },
  {
   "cell_type": "code",
   "execution_count": null,
   "metadata": {
    "collapsed": true
   },
   "outputs": [],
   "source": [
    "c_sch = Counter(active_list+opponent_list)"
   ]
  },
  {
   "cell_type": "markdown",
   "metadata": {},
   "source": [
    "c_sch.most_common()"
   ]
  },
  {
   "cell_type": "markdown",
   "metadata": {},
   "source": [
    "## b.) Find best matches with edit distance"
   ]
  },
  {
   "cell_type": "code",
   "execution_count": null,
   "metadata": {
    "collapsed": false
   },
   "outputs": [],
   "source": [
    "len(c_men), len(c_sch)"
   ]
  },
  {
   "cell_type": "code",
   "execution_count": null,
   "metadata": {
    "collapsed": false
   },
   "outputs": [],
   "source": [
    "%%time\n",
    "row_size = len(c_sch)\n",
    "edit_distances = np.zeros((row_size, len(c_men)))\n",
    "player_names = list(c_sch.keys())\n",
    "for i in range(row_size):\n",
    "    reference = player_names[i]\n",
    "    #print(reference)\n",
    "    edit_distances[i,:] = [editdistance.eval(reference.lower(),comp.lower()) for comp in c_men_names]"
   ]
  },
  {
   "cell_type": "code",
   "execution_count": null,
   "metadata": {
    "collapsed": false
   },
   "outputs": [],
   "source": [
    "min_indices = edit_distances.argmin(axis=1)\n",
    "player_matches = []\n",
    "for i in range(row_size):\n",
    "    reference, min_match = player_names[i], c_men_names[min_indices[i]]\n",
    "    edit_dist = editdistance.eval(reference.lower(),min_match.lower())\n",
    "    player_matches.append((reference,c_sch[reference],min_match,edit_dist))\n",
    "player_matches_df = pd.DataFrame(player_matches,columns=[\"schedule_name\",\"schedule_count\",\"twitter_name\",\"distance\"])"
   ]
  },
  {
   "cell_type": "markdown",
   "metadata": {},
   "source": [
    "### Edit distance distribution for best matches"
   ]
  },
  {
   "cell_type": "code",
   "execution_count": null,
   "metadata": {
    "collapsed": false
   },
   "outputs": [],
   "source": [
    "player_matches_df[\"distance\"].value_counts()"
   ]
  },
  {
   "cell_type": "markdown",
   "metadata": {},
   "source": [
    "### Collect true matches"
   ]
  },
  {
   "cell_type": "markdown",
   "metadata": {},
   "source": [
    "**Notes on name matches:** (approx: 317+29+13 matches = **359 out of 628**)\n",
    "   * names with distance 1 are (pure matches)\n",
    "   * with distance 2 some name must be excluded (Di Wu -?! Kai Wu)\n",
    "   * with distance 3 there are name matches (Matthew Ebden - Matt Ebden) but most of them are a dismatch\n",
    "   * in distance 4 I found only a few match: (Tomas Machac - Tomasz Ma\u0107czak),(Harmony Tan - Harmony)\n",
    "   * in distance 5 could be a match: (Zarina Diyas - Team Zarina Diyas) DE pl. vkiket k\u00e9zzel kell megtal\u00e1lni: (Leonardo Mayer NEM Leo Mayer HANEM @tennismayer - viszont ez a user 1000 \u00e9ve inakt\u00edv..)"
   ]
  },
  {
   "cell_type": "code",
   "execution_count": null,
   "metadata": {
    "collapsed": true
   },
   "outputs": [],
   "source": [
    "true_matches = {}"
   ]
  },
  {
   "cell_type": "markdown",
   "metadata": {},
   "source": [
    "#### i.) Pure matches"
   ]
  },
  {
   "cell_type": "code",
   "execution_count": null,
   "metadata": {
    "collapsed": true
   },
   "outputs": [],
   "source": [
    "zero_dist_matches = player_matches_df[player_matches_df[\"distance\"]==0]"
   ]
  },
  {
   "cell_type": "code",
   "execution_count": null,
   "metadata": {
    "collapsed": false
   },
   "outputs": [],
   "source": [
    "update_dict = dict(zip(zero_dist_matches[\"schedule_name\"],zero_dist_matches[\"twitter_name\"]))\n",
    "true_matches.update(update_dict)"
   ]
  },
  {
   "cell_type": "markdown",
   "metadata": {},
   "source": [
    "#### ii.) 1 distance matches"
   ]
  },
  {
   "cell_type": "code",
   "execution_count": null,
   "metadata": {
    "collapsed": true
   },
   "outputs": [],
   "source": [
    "one_dist_matches = player_matches_df[player_matches_df[\"distance\"]==1]"
   ]
  },
  {
   "cell_type": "code",
   "execution_count": null,
   "metadata": {
    "collapsed": false
   },
   "outputs": [],
   "source": [
    "update_dict = dict(zip(one_dist_matches[\"schedule_name\"],one_dist_matches[\"twitter_name\"]))\n",
    "true_matches.update(update_dict)"
   ]
  },
  {
   "cell_type": "markdown",
   "metadata": {},
   "source": [
    "#### iii.) 2 distance matches"
   ]
  },
  {
   "cell_type": "code",
   "execution_count": null,
   "metadata": {
    "collapsed": true
   },
   "outputs": [],
   "source": [
    "two_dist_matches = player_matches_df[player_matches_df[\"distance\"]==2]"
   ]
  },
  {
   "cell_type": "code",
   "execution_count": null,
   "metadata": {
    "collapsed": false
   },
   "outputs": [],
   "source": [
    "two_dist_matches"
   ]
  },
  {
   "cell_type": "code",
   "execution_count": null,
   "metadata": {
    "collapsed": false
   },
   "outputs": [],
   "source": [
    "name_list = [\"Sofia Kenin\",\"Michael Mmoh\",\"Francesco Forti\",\"Di Wu\"]\n",
    "two_dist_matches = two_dist_matches[~two_dist_matches[\"schedule_name\"].isin(name_list)]"
   ]
  },
  {
   "cell_type": "code",
   "execution_count": null,
   "metadata": {
    "collapsed": true
   },
   "outputs": [],
   "source": [
    "update_dict = dict(zip(two_dist_matches[\"schedule_name\"],two_dist_matches[\"twitter_name\"]))\n",
    "true_matches.update(update_dict)"
   ]
  },
  {
   "cell_type": "markdown",
   "metadata": {},
   "source": [
    "#### iv.) 3 distance matches"
   ]
  },
  {
   "cell_type": "code",
   "execution_count": null,
   "metadata": {
    "collapsed": true
   },
   "outputs": [],
   "source": [
    "three_dist_matches = player_matches_df[player_matches_df[\"distance\"]==3]"
   ]
  },
  {
   "cell_type": "code",
   "execution_count": null,
   "metadata": {
    "collapsed": false
   },
   "outputs": [],
   "source": [
    "three_dist_matches"
   ]
  },
  {
   "cell_type": "code",
   "execution_count": null,
   "metadata": {
    "collapsed": false
   },
   "outputs": [],
   "source": [
    "name_list = [\"Mackenzie McDonald\",\"Matthew Ebden\",\"Nicolas Mahut\",\"Bianca Andreescu\",\"Benoit Paire\",\"Ashleigh Barty\",\"Jerzy Janowicz\",\"Natalia Vikhlyantseva\",\"Darian King\",\"Daniel Evans\",\"Jessica Moore\"]\n",
    "three_dist_matches = three_dist_matches[three_dist_matches[\"schedule_name\"].isin(name_list)]"
   ]
  },
  {
   "cell_type": "code",
   "execution_count": null,
   "metadata": {
    "collapsed": true
   },
   "outputs": [],
   "source": [
    "update_dict = dict(zip(three_dist_matches[\"schedule_name\"],three_dist_matches[\"twitter_name\"]))\n",
    "true_matches.update(update_dict)"
   ]
  },
  {
   "cell_type": "markdown",
   "metadata": {},
   "source": [
    "#### v.) most frequent players"
   ]
  },
  {
   "cell_type": "code",
   "execution_count": null,
   "metadata": {
    "collapsed": false
   },
   "outputs": [],
   "source": [
    "already_found = list(true_matches.keys())"
   ]
  },
  {
   "cell_type": "markdown",
   "metadata": {},
   "source": [
    "### TODO: Nekik m\u00e9g mindenf\u00e9lek\u00e9ppen \u00e9rdemes lenne ut\u00e1na keresni (val\u00f3sz\u00edn\u0171leg k\u00e9zzel)"
   ]
  },
  {
   "cell_type": "code",
   "execution_count": null,
   "metadata": {
    "collapsed": false
   },
   "outputs": [],
   "source": [
    "big_distance = player_matches_df[player_matches_df[\"distance\"]>3]\n",
    "big_dist_frequent_player = big_distance[big_distance[\"schedule_count\"]>2]\n",
    "big_dist_frequent_player = big_dist_frequent_player[~big_dist_frequent_player[\"schedule_name\"].isin(already_found)]\n",
    "len(big_dist_frequent_player)"
   ]
  },
  {
   "cell_type": "code",
   "execution_count": null,
   "metadata": {
    "collapsed": false
   },
   "outputs": [],
   "source": [
    "big_dist_frequent_player.head(50)\n",
    "#big_dist_frequent_player.tail(38)"
   ]
  },
  {
   "cell_type": "code",
   "execution_count": null,
   "metadata": {
    "collapsed": true
   },
   "outputs": [],
   "source": [
    "name_list = [\"Nick Kyrgios\",\"Victor Estrella Burgos\",\"Irina-Camelia Begu\",\"Pierre-Hugues Herbert\",\"Zarina Diyas\",\"Pablo Carreno Busta\",\"Yung-Jan Chan\"]\n",
    "most_pop_players =  big_dist_frequent_player[ big_dist_frequent_player[\"schedule_name\"].isin(name_list)]"
   ]
  },
  {
   "cell_type": "code",
   "execution_count": null,
   "metadata": {
    "collapsed": true
   },
   "outputs": [],
   "source": [
    "update_dict = dict(zip(most_pop_players[\"schedule_name\"],most_pop_players[\"twitter_name\"]))\n",
    "true_matches.update(update_dict)"
   ]
  },
  {
   "cell_type": "code",
   "execution_count": null,
   "metadata": {
    "collapsed": false
   },
   "outputs": [],
   "source": [
    "len(true_matches)"
   ]
  },
  {
   "cell_type": "markdown",
   "metadata": {
    "collapsed": false
   },
   "source": [
    "player_matches_df[player_matches_df[\"distance\"]<3].head(10)"
   ]
  },
  {
   "cell_type": "markdown",
   "metadata": {
    "collapsed": false
   },
   "source": [
    "big_distance.head(10)"
   ]
  },
  {
   "cell_type": "code",
   "execution_count": null,
   "metadata": {
    "collapsed": false
   },
   "outputs": [],
   "source": [
    "sns.jointplot(x=\"schedule_count\", y=\"distance\", data=big_distance,kind=\"kde\")"
   ]
  },
  {
   "cell_type": "code",
   "execution_count": null,
   "metadata": {
    "collapsed": false
   },
   "outputs": [],
   "source": [
    "sns.jointplot(x=\"schedule_count\", y=\"distance\", data=big_distance)"
   ]
  },
  {
   "cell_type": "markdown",
   "metadata": {},
   "source": [
    "# Visualize missing players"
   ]
  },
  {
   "cell_type": "code",
   "execution_count": null,
   "metadata": {
    "collapsed": false
   },
   "outputs": [],
   "source": [
    "daily_players = {}\n",
    "for index, row in schedule_df.iterrows():\n",
    "    date, winner, loser = row[\"date\"], row[\"playerName active\"], row[\"playerName opponent\"]\n",
    "    court, match = row[\"courtName\"], row[\"orderNumber\"]\n",
    "    match_id = \"%s_%i\" % (court, match)\n",
    "    if not date in daily_players:\n",
    "        daily_players[date] = {}\n",
    "    else:\n",
    "        daily_players[date][winner] = match_id\n",
    "        daily_players[date][loser] = match_id"
   ]
  },
  {
   "cell_type": "code",
   "execution_count": null,
   "metadata": {
    "collapsed": false
   },
   "outputs": [],
   "source": [
    "schedule_df.head()"
   ]
  },
  {
   "cell_type": "code",
   "execution_count": null,
   "metadata": {
    "collapsed": false
   },
   "outputs": [],
   "source": [
    "daily_players.keys()"
   ]
  },
  {
   "cell_type": "code",
   "execution_count": null,
   "metadata": {
    "collapsed": false
   },
   "outputs": [],
   "source": [
    "daily_players['2017-06-11']"
   ]
  },
  {
   "cell_type": "code",
   "execution_count": null,
   "metadata": {
    "collapsed": false
   },
   "outputs": [],
   "source": [
    "daily_players_grouped = [(key, list(daily_players[key].keys())) for key in daily_players]"
   ]
  },
  {
   "cell_type": "code",
   "execution_count": null,
   "metadata": {
    "collapsed": true
   },
   "outputs": [],
   "source": [
    "daily_players_df = pd.DataFrame(daily_players_grouped, columns=[\"date\",\"players\"])"
   ]
  },
  {
   "cell_type": "code",
   "execution_count": null,
   "metadata": {
    "collapsed": false
   },
   "outputs": [],
   "source": [
    "daily_players_df[\"count\"] = daily_players_df.apply(lambda x: len(x[\"players\"]),axis=1)"
   ]
  },
  {
   "cell_type": "code",
   "execution_count": null,
   "metadata": {
    "collapsed": true
   },
   "outputs": [],
   "source": [
    "def count_matches(player_list):\n",
    "    num = 0\n",
    "    for player in player_list:\n",
    "        if player in true_matches:\n",
    "            num += 1\n",
    "    return num"
   ]
  },
  {
   "cell_type": "code",
   "execution_count": null,
   "metadata": {
    "collapsed": false
   },
   "outputs": [],
   "source": [
    "daily_players_df[\"match_count\"] = daily_players_df.apply(lambda x: count_matches(x[\"players\"]),axis=1)\n",
    "daily_players_df[\"mismatch_count\"] = daily_players_df.apply(lambda x: x[\"count\"]-x[\"match_count\"],axis=1)"
   ]
  },
  {
   "cell_type": "code",
   "execution_count": null,
   "metadata": {
    "collapsed": false
   },
   "outputs": [],
   "source": [
    "daily_players_df = daily_players_df.sort_values(\"date\")"
   ]
  },
  {
   "cell_type": "code",
   "execution_count": null,
   "metadata": {
    "collapsed": false
   },
   "outputs": [],
   "source": [
    "sns.set(style=\"whitegrid\")\n",
    "\n",
    "# Initialize the matplotlib figure\n",
    "f, ax = plt.subplots(figsize=(15, 10))\n",
    "\n",
    "sns.set_color_codes(\"pastel\")\n",
    "sns.barplot(x=\"count\", y=\"date\", data=daily_players_df,\n",
    "            label=\"Total count\", color=\"b\")\n",
    "\n",
    "sns.set_color_codes(\"muted\")\n",
    "sns.barplot(x=\"match_count\", y=\"date\", data=daily_players_df,\n",
    "            label=\"Match count\", color=\"b\")\n",
    "\n",
    "ax.legend(ncol=2, loc=\"lower right\", frameon=True)\n",
    "ax.set(ylabel=\"Date\", xlabel=\"Number of tennis players\")\n",
    "sns.despine(left=True, bottom=True)"
   ]
  },
  {
   "cell_type": "code",
   "execution_count": null,
   "metadata": {
    "collapsed": true
   },
   "outputs": [],
   "source": []
  }
 ],
 "metadata": {
  "anaconda-cloud": {},
  "kernelspec": {
   "display_name": "Python [conda env:dm-3-env]",
   "language": "python",
   "name": "conda-env-dm-3-env-py"
  },
  "language_info": {
   "codemirror_mode": {
    "name": "ipython",
    "version": 3
   },
   "file_extension": ".py",
   "mimetype": "text/x-python",
   "name": "python",
   "nbconvert_exporter": "python",
   "pygments_lexer": "ipython3",
   "version": "3.5.2"
  }
 },
 "nbformat": 4,
 "nbformat_minor": 1
}