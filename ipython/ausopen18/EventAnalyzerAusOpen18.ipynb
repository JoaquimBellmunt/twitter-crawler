{
 "cells": [
  {
   "cell_type": "code",
   "execution_count": null,
   "metadata": {
    "collapsed": true,
    "nbpresent": {
     "id": "11bfe4b3-580f-4221-a915-4f47b4d3aea7"
    }
   },
   "outputs": [],
   "source": [
    "import sys, os, time"
   ]
  },
  {
   "cell_type": "code",
   "execution_count": null,
   "metadata": {
    "collapsed": true,
    "nbpresent": {
     "id": "d536d4d2-b7b0-444e-bad9-ed2342d0876b"
    }
   },
   "outputs": [],
   "source": [
    "sys.path.insert(0,\"../../python/\")\n",
    "import analyzer_utils as au"
   ]
  },
  {
   "cell_type": "code",
   "execution_count": null,
   "metadata": {
    "collapsed": true,
    "nbpresent": {
     "id": "e9b0c01e-5eeb-42be-bca0-cbe57cc70a97"
    }
   },
   "outputs": [],
   "source": [
    "import networkx as nx\n",
    "import pandas as pd\n",
    "import numpy as np"
   ]
  },
  {
   "cell_type": "code",
   "execution_count": null,
   "metadata": {
    "collapsed": true,
    "nbpresent": {
     "id": "d1e89473-a0f0-4dff-864c-0b0bdc2082b4"
    }
   },
   "outputs": [],
   "source": [
    "%matplotlib inline\n",
    "from matplotlib import pyplot as plt"
   ]
  },
  {
   "cell_type": "code",
   "execution_count": null,
   "metadata": {
    "nbpresent": {
     "id": "d56fd61d-2e53-448d-99fb-7457daf9fdcf"
    }
   },
   "outputs": [],
   "source": [
    "from bokeh.io import output_notebook\n",
    "output_notebook()"
   ]
  },
  {
   "cell_type": "markdown",
   "metadata": {
    "nbpresent": {
     "id": "4de8e9e5-fb59-4ee0-9cfa-0476e05a4fb4"
    }
   },
   "source": [
    "# Get collections"
   ]
  },
  {
   "cell_type": "code",
   "execution_count": null,
   "metadata": {
    "collapsed": true,
    "nbpresent": {
     "id": "54618443-244f-4fd2-a63c-355ccfcf976d"
    }
   },
   "outputs": [],
   "source": [
    "ao18_coll, db = au.get_coll(\"ausopen18\")\n",
    "ao18_qual_coll, _ = au.get_coll(\"ausopen18_qual\")"
   ]
  },
  {
   "cell_type": "markdown",
   "metadata": {
    "nbpresent": {
     "id": "5f5c5c34-6011-4352-9b38-4da7f5b80c06"
    }
   },
   "source": [
    "#### Number of documents in the collections"
   ]
  },
  {
   "cell_type": "code",
   "execution_count": null,
   "metadata": {
    "collapsed": true,
    "nbpresent": {
     "id": "85b018bb-2c24-4015-8826-575355a9a562"
    }
   },
   "outputs": [],
   "source": [
    "auso18_size = db.command(\"collstats\", \"ausopen18\")[\"count\"]\n",
    "auso18_qual_size = db.command(\"collstats\", \"ausopen18_qual\")[\"count\"]"
   ]
  },
  {
   "cell_type": "code",
   "execution_count": null,
   "metadata": {
    "nbpresent": {
     "id": "fc064654-4eca-48c3-af0b-90d5a96536eb"
    }
   },
   "outputs": [],
   "source": [
    "print(\"Number of docs in 'uso17': %i\" % auso18_size)\n",
    "print(\"Number of docs in 'auso18_qual': %i\" % auso18_qual_size)"
   ]
  },
  {
   "cell_type": "markdown",
   "metadata": {
    "nbpresent": {
     "id": "96d66aa2-af60-4b2e-b2a5-ce563672ab9a"
    }
   },
   "source": [
    "# Sample event"
   ]
  },
  {
   "cell_type": "code",
   "execution_count": null,
   "metadata": {
    "collapsed": true,
    "nbpresent": {
     "id": "c7ba97ef-0198-4a1d-ace9-619106c44116"
    }
   },
   "outputs": [],
   "source": [
    "doc = ao18_qual_coll.find_one({\"id_str\":'951036001832509440'})"
   ]
  },
  {
   "cell_type": "code",
   "execution_count": null,
   "metadata": {
    "nbpresent": {
     "id": "dc5e1557-bd61-4be8-bf4a-475ce7a58d6f"
    }
   },
   "outputs": [],
   "source": [
    "doc[\"created_at\"]"
   ]
  },
  {
   "cell_type": "code",
   "execution_count": null,
   "metadata": {
    "nbpresent": {
     "id": "6c474d1a-3409-4001-8bb5-12982a9a29fa"
    }
   },
   "outputs": [],
   "source": [
    "from search_utils import tweet_time_2_epoch\n",
    "tweet_time_2_epoch('Mon Jan 08 12:22:33 +0000 2018')"
   ]
  },
  {
   "cell_type": "markdown",
   "metadata": {
    "nbpresent": {
     "id": "f32179ef-dbd3-4d58-87bf-60d0b7552c97"
    }
   },
   "source": [
    "# Search notes\n",
    "\n",
    "   1. There was missing data between epochs: 1515555502 - 1515530302 **(SUCCESS)**\n",
    "\n",
    "      * lower bound was set for \"Tue Jan 09 20:38:00 +0000 2018\"\n",
    "      * max_id is bigger: 951036001832509440 - 'Wed Jan 10 10:20:26 +0000 2018'"
   ]
  },
  {
   "cell_type": "markdown",
   "metadata": {
    "nbpresent": {
     "id": "18adfae7-4fd5-41c4-ad84-3d0df3feff29"
    }
   },
   "source": [
    "# Upper and lower bound of the available dataset\n",
    "\n",
    "   * Qualifying days: TBA\n",
    "   * Normal contest: TBA "
   ]
  },
  {
   "cell_type": "markdown",
   "metadata": {
    "nbpresent": {
     "id": "aadd1910-19c9-48eb-94ea-e85c32c92c86"
    }
   },
   "source": [
    "### Qualifications"
   ]
  },
  {
   "cell_type": "code",
   "execution_count": null,
   "metadata": {
    "nbpresent": {
     "id": "730d5b05-edf7-458d-a686-e4308255b40d"
    }
   },
   "outputs": [],
   "source": [
    "au.find_some_docs(ao18_qual_coll,sort_params=[(\"id\",1)],limit=3)"
   ]
  },
  {
   "cell_type": "code",
   "execution_count": null,
   "metadata": {
    "nbpresent": {
     "id": "7ece152d-47a4-438e-bf7e-23cd7ba05782"
    },
    "scrolled": false
   },
   "outputs": [],
   "source": [
    "au.find_some_docs(ao18_qual_coll,limit=3)"
   ]
  },
  {
   "cell_type": "markdown",
   "metadata": {
    "nbpresent": {
     "id": "81f4f21d-6c66-489d-80d1-69bddfbd8720"
    }
   },
   "source": [
    "### Days"
   ]
  },
  {
   "cell_type": "code",
   "execution_count": null,
   "metadata": {
    "nbpresent": {
     "id": "abb52fe6-8d7c-443f-99d3-1bebad1d4351"
    }
   },
   "outputs": [],
   "source": [
    "au.find_some_docs(ao18_coll,sort_params=[(\"id\",1)],limit=3)"
   ]
  },
  {
   "cell_type": "code",
   "execution_count": null,
   "metadata": {
    "nbpresent": {
     "id": "4b051c18-b2f1-4d14-8536-7ec2b74690f9"
    },
    "scrolled": false
   },
   "outputs": [],
   "source": [
    "au.find_some_docs(ao18_coll,limit=3)"
   ]
  },
  {
   "cell_type": "markdown",
   "metadata": {
    "nbpresent": {
     "id": "92cfb71d-ea49-49fd-917c-f87ad73d6894"
    }
   },
   "source": [
    "# Extract tweet text"
   ]
  },
  {
   "cell_type": "markdown",
   "metadata": {
    "collapsed": true,
    "nbpresent": {
     "id": "eedcf03d-945a-4e30-9aa7-ca21f53bcc9d"
    }
   },
   "source": [
    "tweet_info_raw = au.get_tweets(uso17_coll)"
   ]
  },
  {
   "cell_type": "markdown",
   "metadata": {
    "collapsed": true,
    "nbpresent": {
     "id": "98f874fb-f788-4aa2-8be2-a4ecbbba666e"
    }
   },
   "source": [
    "tweet_info_df_raw = pd.DataFrame(tweet_info_raw, columns=[\"time\",\"source_id\",\"source_name\",\"language\",\"text\"])"
   ]
  },
  {
   "cell_type": "markdown",
   "metadata": {
    "collapsed": true,
    "nbpresent": {
     "id": "dd5c4e3c-66c5-4a8b-8fd2-24d80bd6a14f"
    }
   },
   "source": [
    "tweet_info_begin = au.get_tweets(uso17_qual_coll)"
   ]
  },
  {
   "cell_type": "markdown",
   "metadata": {
    "collapsed": true,
    "nbpresent": {
     "id": "be73b802-7144-4b47-8ccc-00b73fd9b8b6"
    }
   },
   "source": [
    "tweet_info_df_begin = pd.DataFrame(tweet_info_begin, columns=[\"time\",\"source_id\",\"source_name\",\"language\",\"text\"])"
   ]
  },
  {
   "cell_type": "markdown",
   "metadata": {
    "collapsed": true,
    "nbpresent": {
     "id": "ea564275-9bb6-413c-bbe1-75d55284a037"
    }
   },
   "source": [
    "tweet_info_df = pd.concat([tweet_info_df_raw, tweet_info_df_begin])"
   ]
  },
  {
   "cell_type": "markdown",
   "metadata": {
    "collapsed": true,
    "nbpresent": {
     "id": "46152082-2903-4277-80e4-370949a8fe9a"
    }
   },
   "source": [
    "tweet_info_df = tweet_info_df.sort_values(\"time\")"
   ]
  },
  {
   "cell_type": "markdown",
   "metadata": {
    "collapsed": true,
    "nbpresent": {
     "id": "d2ab7646-877f-4d60-818c-567044cf14ef"
    }
   },
   "source": [
    "tweet_info_df.to_csv(\"/mnt/idms/fberes/network/usopen/data/uso17_tweets.csv\",index=False,sep=\"|\")"
   ]
  },
  {
   "cell_type": "markdown",
   "metadata": {
    "collapsed": true,
    "nbpresent": {
     "id": "8ea9cab2-455a-4580-8b5f-379784d9e949"
    }
   },
   "source": [
    "tweet_info_df_en = tweet_info_df[tweet_info_df[\"language\"] == \"en\"]\n",
    "tweet_info_df_en.to_csv(\"/mnt/idms/fberes/network/usopen/data/uso17_tweets_eng.csv\",index=False,sep=\"|\")"
   ]
  },
  {
   "cell_type": "markdown",
   "metadata": {
    "nbpresent": {
     "id": "bdfbe637-e0de-483d-98a5-9ed5a8977bae"
    }
   },
   "source": [
    "# Extract mention networks"
   ]
  },
  {
   "cell_type": "markdown",
   "metadata": {
    "nbpresent": {
     "id": "9c49ce54-036a-4caf-8947-ac4281fdb129"
    }
   },
   "source": [
    "## a.) Extract mentions from multiple collections"
   ]
  },
  {
   "cell_type": "code",
   "execution_count": null,
   "metadata": {
    "collapsed": true,
    "nbpresent": {
     "id": "f107ca7b-6847-4fb7-97d1-b7111a8ae8da"
    }
   },
   "outputs": [],
   "source": [
    "mentions_begin, user_names_begin, user_screen_names_begin, num_tweets_begin, num_retweets_begin = au.get_mentions(ao18_qual_coll)"
   ]
  },
  {
   "cell_type": "code",
   "execution_count": null,
   "metadata": {
    "nbpresent": {
     "id": "d4777f7f-1354-46aa-9748-ccc4eb864085"
    }
   },
   "outputs": [],
   "source": [
    "mentions_df_begin = pd.DataFrame(mentions_begin,columns=[\"epoch\",\"src\",\"trg\",\"lang\",\"text\"])\n",
    "print(len(mentions_df_begin))"
   ]
  },
  {
   "cell_type": "code",
   "execution_count": null,
   "metadata": {
    "nbpresent": {
     "id": "af23934f-3f78-4195-ac4b-5f9b7b94bb84"
    }
   },
   "outputs": [],
   "source": [
    "mentions_df_begin.head()"
   ]
  },
  {
   "cell_type": "markdown",
   "metadata": {
    "nbpresent": {
     "id": "ffd14b13-5616-404a-b0b3-bc4f838c4bf5"
    }
   },
   "source": [
    "mentions_raw, user_names_raw, user_screen_names_raw, num_tweets_raw, num_retweets_raw = au.get_mentions(uso17_coll)"
   ]
  },
  {
   "cell_type": "markdown",
   "metadata": {
    "nbpresent": {
     "id": "6cd77608-2128-43ec-b2fb-32a00b6a108b"
    }
   },
   "source": [
    "mentions_df_raw = pd.DataFrame(mentions_raw,columns=[\"epoch\",\"src\",\"trg\",\"lang\",\"text\"])\n",
    "print(len(mentions_df_raw))"
   ]
  },
  {
   "cell_type": "markdown",
   "metadata": {
    "nbpresent": {
     "id": "d5f93076-48b1-456d-b29b-f8802c5204c8"
    }
   },
   "source": [
    "## b.) AustralianOpen18 mention network (concatenated)"
   ]
  },
  {
   "cell_type": "code",
   "execution_count": null,
   "metadata": {
    "collapsed": true,
    "nbpresent": {
     "id": "b34e3f66-cc22-45c7-a257-7b47fafb3e91"
    }
   },
   "outputs": [],
   "source": [
    "mentions_df = mentions_df_begin#pd.concat([mentions_df_begin, mentions_df_raw])\n",
    "mentions_df = mentions_df.reset_index(drop=True)\n",
    "mentions_df = mentions_df.sort_values(\"epoch\")\n",
    "#user_names_begin.update(user_names_raw)\n",
    "#user_screen_names_begin.update(user_screen_names_raw)\n",
    "user_names = user_names_begin\n",
    "user_screen_names = user_screen_names_begin\n",
    "num_tweets = num_tweets_begin# + num_tweets_raw\n",
    "num_retweets = num_retweets_begin# + num_retweets_raw"
   ]
  },
  {
   "cell_type": "code",
   "execution_count": null,
   "metadata": {
    "nbpresent": {
     "id": "2b4ac2c4-8fdc-4852-a60c-5e83f9d7a581"
    }
   },
   "outputs": [],
   "source": [
    "mentions_df.head()"
   ]
  },
  {
   "cell_type": "code",
   "execution_count": null,
   "metadata": {
    "collapsed": true,
    "nbpresent": {
     "id": "d2a56c72-d334-4e1c-a105-a46dbfc1d80a"
    }
   },
   "outputs": [],
   "source": [
    "mentions_df[\"src_str\"] =  mentions_df[\"src\"].apply(lambda x: user_names[x])\n",
    "mentions_df[\"trg_str\"] =  mentions_df[\"trg\"].apply(lambda x: user_names[x])\n",
    "mentions_df[\"src_screen_str\"] =  mentions_df[\"src\"].apply(lambda x: user_screen_names[x])\n",
    "mentions_df[\"trg_screen_str\"] =  mentions_df[\"trg\"].apply(lambda x: user_screen_names[x])"
   ]
  },
  {
   "cell_type": "markdown",
   "metadata": {
    "nbpresent": {
     "id": "fa7bb3ae-ac90-4600-943f-4021ef45ebd1"
    }
   },
   "source": [
    "### 1. Number of mentions"
   ]
  },
  {
   "cell_type": "code",
   "execution_count": null,
   "metadata": {
    "nbpresent": {
     "id": "6afac43f-d753-428b-8640-0ed117ba4bd9"
    }
   },
   "outputs": [],
   "source": [
    "print(\"Number of tweets: %i\" % num_tweets)\n",
    "print(\"Number of retweets: %i\" % num_retweets)\n",
    "print(\"Number of mentions extracted from tweets: %i\" % len(mentions_df))"
   ]
  },
  {
   "cell_type": "code",
   "execution_count": null,
   "metadata": {
    "nbpresent": {
     "id": "1ab12cac-f4d6-45a1-9f29-49aeb96d4ee5"
    }
   },
   "outputs": [],
   "source": [
    "mentions_df[\"lang\"].value_counts()"
   ]
  },
  {
   "cell_type": "markdown",
   "metadata": {
    "nbpresent": {
     "id": "3b37931a-a886-4237-8075-13d066ac165a"
    }
   },
   "source": [
    "### Export mentions to .csv"
   ]
  },
  {
   "cell_type": "markdown",
   "metadata": {
    "nbpresent": {
     "id": "3ed68f7a-1833-43a0-9114-2fd71f22346c"
    }
   },
   "source": [
    "#### 2018-01-09 0:00:00 AEDT: 1515416400 (2018-01-08 13:00:00 GMT)\n",
    "#### 2018-01-30 0:00:00 AEDT: 1517230800 (2018-01-29 13:00:00 GMT)"
   ]
  },
  {
   "cell_type": "code",
   "execution_count": null,
   "metadata": {
    "collapsed": true,
    "nbpresent": {
     "id": "93d43db2-0f5c-4282-9cab-f8c41a17cc0a"
    }
   },
   "outputs": [],
   "source": [
    "mentions_df = mentions_df[(mentions_df[\"epoch\"] >= 1515416400) & (mentions_df[\"epoch\"] < 1517230800)]"
   ]
  },
  {
   "cell_type": "markdown",
   "metadata": {
    "nbpresent": {
     "id": "ab954a97-f452-41e6-b1b5-b562fa28ee06"
    }
   },
   "source": [
    "#### with recoded ID-s"
   ]
  },
  {
   "cell_type": "code",
   "execution_count": null,
   "metadata": {
    "collapsed": true,
    "nbpresent": {
     "id": "fe924942-13d3-4d3c-b58d-668e6e6858b1"
    }
   },
   "outputs": [],
   "source": [
    "file_path = \"/mnt/idms/temporalNodeRanking/data/filtered_timeline_data/tsv/ausopen/ausopen_mentions.csv\"\n",
    "au.recode_and_export_mentions(file_path,mentions_df,user_names)"
   ]
  },
  {
   "cell_type": "markdown",
   "metadata": {
    "nbpresent": {
     "id": "3b1e2b72-6be3-475b-b7a6-71a86ec124b7"
    }
   },
   "source": [
    "#### with original ID-s"
   ]
  },
  {
   "cell_type": "code",
   "execution_count": null,
   "metadata": {
    "collapsed": true,
    "nbpresent": {
     "id": "6411d30f-dfd6-4f8a-afed-44c655869d1d"
    }
   },
   "outputs": [],
   "source": [
    "cols_to_export = [\"epoch\",\"src\",\"trg\",\"src_str\",\"src_screen_str\",\"trg_str\",\"trg_screen_str\"]\n",
    "mentions_df.to_csv(\"/mnt/idms/fberes/network/ausopen18/data/ao18_mentions_with_names.csv\",columns=cols_to_export,sep=\"|\",index=False)"
   ]
  },
  {
   "cell_type": "code",
   "execution_count": null,
   "metadata": {
    "collapsed": true,
    "nbpresent": {
     "id": "bf21e4d2-2df0-42e8-8143-5c97bc6cc45e"
    }
   },
   "outputs": [],
   "source": [
    "cols_to_export = [\"epoch\",\"src\",\"trg\",\"src_str\",\"src_screen_str\",\"trg_str\",\"trg_screen_str\",\"lang\",\"text\"]\n",
    "mentions_df.to_csv(\"/mnt/idms/fberes/network/ausopen18/data/ao18_mentions_with_names_and_text.csv\",columns=cols_to_export,sep=\"|\",index=False)"
   ]
  },
  {
   "cell_type": "markdown",
   "metadata": {
    "nbpresent": {
     "id": "27e154b7-1397-4a25-a3db-f8e09fd7763b"
    }
   },
   "source": [
    "### Read from .csv"
   ]
  },
  {
   "cell_type": "code",
   "execution_count": null,
   "metadata": {
    "collapsed": true,
    "nbpresent": {
     "id": "758d124a-7550-4513-94d1-9c8ab8180b9d"
    }
   },
   "outputs": [],
   "source": [
    "mentions_df = pd.read_csv(\"/mnt/idms/fberes/network/ausopen18/data/ao18_mentions_with_names.csv\",sep=\"|\")\n",
    "mentions_df.head()"
   ]
  },
  {
   "cell_type": "code",
   "execution_count": null,
   "metadata": {
    "collapsed": true,
    "nbpresent": {
     "id": "36a0ae65-14c5-4c68-9806-47af5ff13136"
    }
   },
   "outputs": [],
   "source": [
    "src_map = dict(zip(mentions_df[\"src\"],mentions_df[\"src_str\"]))\n",
    "trg_map = dict(zip(mentions_df[\"trg\"],mentions_df[\"trg_str\"]))\n",
    "src_map.update(trg_map)\n",
    "user_names = src_map"
   ]
  },
  {
   "cell_type": "markdown",
   "metadata": {
    "nbpresent": {
     "id": "8ba52c90-2c61-48a6-9f08-33a03eb29095"
    }
   },
   "source": [
    "### 2. Popular source nodes"
   ]
  },
  {
   "cell_type": "code",
   "execution_count": null,
   "metadata": {
    "nbpresent": {
     "id": "ba66ce83-b700-4715-88e5-d6c54783017b"
    }
   },
   "outputs": [],
   "source": [
    "au.show_frequent_items(mentions_df,user_names,\"src\",k=10)"
   ]
  },
  {
   "cell_type": "markdown",
   "metadata": {
    "nbpresent": {
     "id": "17d24cb4-414b-4df0-a997-75ac49b6c10c"
    }
   },
   "source": [
    "### 3. Popular target nodes"
   ]
  },
  {
   "cell_type": "code",
   "execution_count": null,
   "metadata": {
    "nbpresent": {
     "id": "baecdf4f-460f-43c3-a57c-9312d33b1277"
    }
   },
   "outputs": [],
   "source": [
    "au.show_frequent_items(mentions_df,user_names,\"trg\",k=10)"
   ]
  },
  {
   "cell_type": "markdown",
   "metadata": {
    "nbpresent": {
     "id": "30922386-bc57-460e-bfe9-af733437107d"
    }
   },
   "source": [
    "### 4. Event distribution in time"
   ]
  },
  {
   "cell_type": "code",
   "execution_count": null,
   "metadata": {
    "collapsed": true,
    "nbpresent": {
     "id": "9691f67f-b1cb-48e4-bbe1-e39d48355224"
    }
   },
   "outputs": [],
   "source": [
    "import time"
   ]
  },
  {
   "cell_type": "code",
   "execution_count": null,
   "metadata": {
    "collapsed": true,
    "nbpresent": {
     "id": "139bf16a-c8b7-42af-814d-e6143cedf395"
    }
   },
   "outputs": [],
   "source": [
    "mentions_df[\"date\"] = mentions_df[\"epoch\"].apply(lambda x: time.strftime('%Y-%m-%d', time.localtime(x)))\n",
    "mentions_df[\"time\"] = mentions_df[\"epoch\"].apply(lambda x: time.strftime('%H:%M:%S', time.localtime(x)))"
   ]
  },
  {
   "cell_type": "code",
   "execution_count": null,
   "metadata": {
    "nbpresent": {
     "id": "4f13222c-096d-4f8e-aba5-2f8b86f11d1f"
    }
   },
   "outputs": [],
   "source": [
    "mentions_df.head()"
   ]
  },
  {
   "cell_type": "code",
   "execution_count": null,
   "metadata": {
    "nbpresent": {
     "id": "66e51129-f921-42b0-ad26-dbeb78819ea1"
    }
   },
   "outputs": [],
   "source": [
    "plt.figure(figsize=(15,5))\n",
    "plt.title(\"Number of mentions in time\")\n",
    "#mentions_df[(mentions_df[\"epoch\"]<1515555502) & (mentions_df[\"epoch\"]>1515530302)][\"epoch\"].hist(bins=500)\n",
    "mentions_df[\"epoch\"].hist(bins=500)\n",
    "plt.show()"
   ]
  },
  {
   "cell_type": "code",
   "execution_count": null,
   "metadata": {
    "collapsed": true,
    "nbpresent": {
     "id": "8d48dc0c-14ae-401b-8e76-109e8fc0059a"
    }
   },
   "outputs": [],
   "source": [
    "num_of_mentions_by_day = mentions_df[\"date\"].value_counts().sort_index()"
   ]
  },
  {
   "cell_type": "code",
   "execution_count": null,
   "metadata": {
    "nbpresent": {
     "id": "13b260b5-f13d-42e0-98d9-56055b00056c"
    }
   },
   "outputs": [],
   "source": [
    "plt.figure(figsize=(15,5))\n",
    "plt.title(\"Number of mentions per day\")\n",
    "plt.plot(num_of_mentions_by_day.values)\n",
    "plt.xticks(range(len(num_of_mentions_by_day)),num_of_mentions_by_day.index,rotation='vertical')\n",
    "plt.show()"
   ]
  },
  {
   "cell_type": "markdown",
   "metadata": {
    "nbpresent": {
     "id": "fdb4baef-a981-40ea-b3e0-b64c08cd2652"
    }
   },
   "source": [
    "### 5. Graph informations"
   ]
  },
  {
   "cell_type": "code",
   "execution_count": null,
   "metadata": {
    "collapsed": true,
    "nbpresent": {
     "id": "9c255ddf-71ad-4ac6-899a-52021d975877"
    }
   },
   "outputs": [],
   "source": [
    "date_splits = sorted(list(mentions_df[\"date\"].unique()))\n",
    "#date_splits"
   ]
  },
  {
   "cell_type": "code",
   "execution_count": null,
   "metadata": {
    "collapsed": true,
    "nbpresent": {
     "id": "125e4020-d137-4143-acb3-505780806199"
    }
   },
   "outputs": [],
   "source": [
    "graph_stats = [] \n",
    "for split in date_splits[1:]:\n",
    "    partial_df = mentions_df[mentions_df[\"date\"] < split]\n",
    "    graph_stats += [au.get_graph_stats(partial_df)]\n",
    "graph_stats_df = pd.DataFrame(graph_stats, columns=[\"nodes\",\"edges\",\"weak_components\",\"strong_components\"])"
   ]
  },
  {
   "cell_type": "code",
   "execution_count": null,
   "metadata": {
    "collapsed": true,
    "nbpresent": {
     "id": "9d04ec13-bbe3-41e3-b8ba-d87ef4ea5b27"
    }
   },
   "outputs": [],
   "source": [
    "graph_stats_df.head(3)"
   ]
  },
  {
   "cell_type": "code",
   "execution_count": null,
   "metadata": {
    "collapsed": true,
    "nbpresent": {
     "id": "7e87a3d1-040f-4f93-9172-d1dadc54c4bb"
    }
   },
   "outputs": [],
   "source": [
    "plt.subplots(figsize=(16,5))\n",
    "\n",
    "plt.subplot(1,2,1)\n",
    "plt.title('Aggregated mention graph size')\n",
    "plt.plot(graph_stats_df[\"nodes\"],label=\"nodes\")\n",
    "plt.plot(graph_stats_df[\"edges\"],label=\"edges\")\n",
    "plt.xticks(range(len(graph_stats_df)),date_splits[:-1],rotation='vertical')\n",
    "plt.legend()\n",
    "\n",
    "plt.subplot(1,2,2)\n",
    "plt.title('Number of weak components in the aggregated mention graph')\n",
    "plt.plot(graph_stats_df[\"weak_components\"],label=\"number of \",c=\"r\")\n",
    "plt.xticks(range(len(graph_stats_df)),date_splits[:-1],rotation='vertical')\n",
    "plt.show()"
   ]
  },
  {
   "cell_type": "markdown",
   "metadata": {
    "nbpresent": {
     "id": "e51f34d0-e941-42c6-b025-49e02ade468d"
    }
   },
   "source": [
    "### 6. Changes in popular items"
   ]
  },
  {
   "cell_type": "code",
   "execution_count": null,
   "metadata": {
    "collapsed": true,
    "nbpresent": {
     "id": "ee917182-2f18-46df-8f79-293c00ced6ed"
    }
   },
   "outputs": [],
   "source": [
    "day_list = []\n",
    "day_list += ['2018-01-%.2i' % i for i in range(8,29)]\n",
    "day_list"
   ]
  },
  {
   "cell_type": "code",
   "execution_count": null,
   "metadata": {
    "collapsed": true,
    "nbpresent": {
     "id": "cc3e0080-d608-4480-9c50-e0ab3b94edfd"
    }
   },
   "outputs": [],
   "source": [
    "k = 20\n",
    "popular_trgs = []\n",
    "for i in range(len(day_list)):\n",
    "    daily_df = mentions_df[mentions_df[\"date\"]==day_list[i]]\n",
    "    freq_trg = au.show_frequent_items(daily_df,user_names,\"trg\",k=k)\n",
    "    popular_trgs += list(zip(np.ones(k)*i,freq_trg[\"name\"],freq_trg[\"count\"],freq_trg[\"count\"]/len(daily_df)))\n",
    "popular_trg_df = pd.DataFrame(popular_trgs, columns=[\"day_idx\",\"name\",\"count\",\"dominance\"])"
   ]
  },
  {
   "cell_type": "code",
   "execution_count": null,
   "metadata": {
    "collapsed": true,
    "nbpresent": {
     "id": "8c0ad37f-c278-45a6-97d9-624bc6075633"
    }
   },
   "outputs": [],
   "source": [
    "popular_trg_df = popular_trg_df[~(popular_trg_df[\"name\"] == \"#AusOpen\")]"
   ]
  },
  {
   "cell_type": "markdown",
   "metadata": {
    "nbpresent": {
     "id": "a033a44c-c492-4a92-9108-6eba1c1fe0dd"
    }
   },
   "source": [
    "#### At least 3 times in top_20"
   ]
  },
  {
   "cell_type": "code",
   "execution_count": null,
   "metadata": {
    "collapsed": true,
    "nbpresent": {
     "id": "f4bf79e2-4ad8-4cf8-a817-f8db43c09d64"
    }
   },
   "outputs": [],
   "source": [
    "au.plot_user_popularity(au.filter_for_support(popular_trg_df, min_times=5),day_list)"
   ]
  },
  {
   "cell_type": "markdown",
   "metadata": {
    "nbpresent": {
     "id": "cf5b14da-59de-4996-a87f-5352a40c5565"
    }
   },
   "source": [
    "#### At least 8 times in top_20"
   ]
  },
  {
   "cell_type": "code",
   "execution_count": null,
   "metadata": {
    "collapsed": true,
    "nbpresent": {
     "id": "b24c6d50-43b4-4a65-9ac7-945e343459e2"
    }
   },
   "outputs": [],
   "source": [
    "very_pop_df = au.filter_for_support(popular_trg_df, min_times=6)\n",
    "#au.plot_user_popularity(very_pop_df, day_list)\n",
    "au.plot_user_dominance(very_pop_df)"
   ]
  },
  {
   "cell_type": "markdown",
   "metadata": {
    "nbpresent": {
     "id": "940a2c6f-b3ea-47fb-8eb9-030bbcf2d6ba"
    }
   },
   "source": [
    "#### At least 4 times in top_20 but less then 8 times"
   ]
  },
  {
   "cell_type": "markdown",
   "metadata": {
    "nbpresent": {
     "id": "4ddad812-6367-470a-87a9-376603bdd8c9"
    }
   },
   "source": [
    "very_pop_df = au.filter_for_support(popular_trg_df, max_times=5, min_times=3)\n",
    "#plot_user_popularity(very_pop_df,day_list)\n",
    "au.plot_user_dominance(very_pop_df)"
   ]
  },
  {
   "cell_type": "code",
   "execution_count": null,
   "metadata": {
    "collapsed": true,
    "nbpresent": {
     "id": "bb085591-f87d-4e29-a349-72b043c4b6f6"
    }
   },
   "outputs": [],
   "source": []
  }
 ],
 "metadata": {
  "anaconda-cloud": {},
  "kernelspec": {
   "display_name": "Python [conda env:dm-3-env]",
   "language": "python",
   "name": "conda-env-dm-3-env-py"
  },
  "language_info": {
   "codemirror_mode": {
    "name": "ipython",
    "version": 3
   },
   "file_extension": ".py",
   "mimetype": "text/x-python",
   "name": "python",
   "nbconvert_exporter": "python",
   "pygments_lexer": "ipython3",
   "version": "3.5.4"
  }
 },
 "nbformat": 4,
 "nbformat_minor": 1
}